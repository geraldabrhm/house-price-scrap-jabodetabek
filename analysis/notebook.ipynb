{
 "cells": [
  {
   "cell_type": "code",
   "execution_count": 53,
   "metadata": {},
   "outputs": [],
   "source": [
    "import pandas as pd\n",
    "import numpy as np\n",
    "import matplotlib.pyplot as plt\n",
    "import seaborn as sns\n",
    "pd.set_option('display.float_format', lambda x: '%.1f' % x)"
   ]
  },
  {
   "cell_type": "code",
   "execution_count": 54,
   "metadata": {},
   "outputs": [],
   "source": [
    "df = pd.read_csv('../dataset/rumah123_jabodetabek.csv')"
   ]
  },
  {
   "cell_type": "code",
   "execution_count": 55,
   "metadata": {},
   "outputs": [
    {
     "data": {
      "text/html": [
       "<div>\n",
       "<style scoped>\n",
       "    .dataframe tbody tr th:only-of-type {\n",
       "        vertical-align: middle;\n",
       "    }\n",
       "\n",
       "    .dataframe tbody tr th {\n",
       "        vertical-align: top;\n",
       "    }\n",
       "\n",
       "    .dataframe thead th {\n",
       "        text-align: right;\n",
       "    }\n",
       "</style>\n",
       "<table border=\"1\" class=\"dataframe\">\n",
       "  <thead>\n",
       "    <tr style=\"text-align: right;\">\n",
       "      <th></th>\n",
       "      <th>location</th>\n",
       "      <th>sub_district</th>\n",
       "      <th>title</th>\n",
       "      <th>price</th>\n",
       "      <th>lt</th>\n",
       "      <th>lb</th>\n",
       "    </tr>\n",
       "  </thead>\n",
       "  <tbody>\n",
       "    <tr>\n",
       "      <th>count</th>\n",
       "      <td>99215</td>\n",
       "      <td>99215</td>\n",
       "      <td>99211</td>\n",
       "      <td>99215</td>\n",
       "      <td>99153</td>\n",
       "      <td>98757</td>\n",
       "    </tr>\n",
       "    <tr>\n",
       "      <th>unique</th>\n",
       "      <td>12</td>\n",
       "      <td>176</td>\n",
       "      <td>84809</td>\n",
       "      <td>2035</td>\n",
       "      <td>1798</td>\n",
       "      <td>1127</td>\n",
       "    </tr>\n",
       "    <tr>\n",
       "      <th>top</th>\n",
       "      <td>tangerang</td>\n",
       "      <td>cipayung</td>\n",
       "      <td>Rumah murah minimalis siap huni</td>\n",
       "      <td>Rp 1,5 Miliar</td>\n",
       "      <td>60 m²</td>\n",
       "      <td>200 m²</td>\n",
       "    </tr>\n",
       "    <tr>\n",
       "      <th>freq</th>\n",
       "      <td>17177</td>\n",
       "      <td>2000</td>\n",
       "      <td>51</td>\n",
       "      <td>1845</td>\n",
       "      <td>8674</td>\n",
       "      <td>3602</td>\n",
       "    </tr>\n",
       "  </tbody>\n",
       "</table>\n",
       "</div>"
      ],
      "text/plain": [
       "         location sub_district                            title  \\\n",
       "count       99215        99215                            99211   \n",
       "unique         12          176                            84809   \n",
       "top     tangerang     cipayung  Rumah murah minimalis siap huni   \n",
       "freq        17177         2000                               51   \n",
       "\n",
       "                price       lt        lb  \n",
       "count           99215    99153     98757  \n",
       "unique           2035     1798      1127  \n",
       "top     Rp 1,5 Miliar    60 m²    200 m²  \n",
       "freq             1845     8674      3602  "
      ]
     },
     "execution_count": 55,
     "metadata": {},
     "output_type": "execute_result"
    }
   ],
   "source": [
    "df.describe()"
   ]
  },
  {
   "cell_type": "markdown",
   "metadata": {},
   "source": [
    "## Cleaning"
   ]
  },
  {
   "cell_type": "markdown",
   "metadata": {},
   "source": [
    "### Replace '-' with blank space (' ')"
   ]
  },
  {
   "cell_type": "code",
   "execution_count": 56,
   "metadata": {},
   "outputs": [],
   "source": [
    "df['sub_district'] = df['sub_district'].str.replace('-', ' ')\n",
    "df['location'] = df['location'].str.replace('-', ' ')"
   ]
  },
  {
   "cell_type": "markdown",
   "metadata": {},
   "source": [
    "### Capitalize Each Word"
   ]
  },
  {
   "cell_type": "code",
   "execution_count": 57,
   "metadata": {},
   "outputs": [],
   "source": [
    "df['sub_district'] = df['sub_district'].str.title()\n",
    "df['location'] = df['location'].str.title()"
   ]
  },
  {
   "cell_type": "markdown",
   "metadata": {},
   "source": [
    "### Convert price from 'rupiah terbilang' to float"
   ]
  },
  {
   "cell_type": "code",
   "execution_count": 58,
   "metadata": {},
   "outputs": [],
   "source": [
    "df['price_wording'] = df['price']\n",
    "\n",
    "df['price'] = df['price'].str.replace('Rp ', '')\n",
    "df['price'] = df['price'].str.replace('Hubungi', '')\n",
    "df['price'] = df['price'].str.replace(',', '.')\n",
    "\n",
    "df[['price', 'price_unit']] = df['price'].str.split(' ', expand=True)\n",
    "df = df[df['price_unit'] != 'Agen']"
   ]
  },
  {
   "cell_type": "code",
   "execution_count": 59,
   "metadata": {},
   "outputs": [],
   "source": [
    "df['price'] = df['price'].astype(float)\n",
    "\n",
    "def multiply_price(row: float):\n",
    "    if row['price_unit'] == 'Miliar':\n",
    "        return row['price'] * 1000000000\n",
    "    elif row['price_unit'] == 'Juta':\n",
    "        return row['price'] * 1000000\n",
    "    else:\n",
    "        return row['price']\n",
    "\n",
    "df['price'] = df.apply(multiply_price, axis=1)\n",
    "\n",
    "df = df.drop(columns=['price_unit'])"
   ]
  },
  {
   "cell_type": "markdown",
   "metadata": {},
   "source": [
    "### Remove square root (m²) unit"
   ]
  },
  {
   "cell_type": "code",
   "execution_count": 60,
   "metadata": {},
   "outputs": [],
   "source": [
    "df['lt'] = df['lt'].str.replace(' m²', '')\n",
    "df['lb'] = df['lb'].str.replace(' m²', '')\n",
    "\n",
    "df['lt'] = df['lt'].astype(float)\n",
    "df['lb'] = df['lb'].astype(float)\n"
   ]
  },
  {
   "cell_type": "markdown",
   "metadata": {},
   "source": [
    "## EDA"
   ]
  },
  {
   "cell_type": "markdown",
   "metadata": {},
   "source": [
    "### Sample After Cleaning"
   ]
  },
  {
   "cell_type": "code",
   "execution_count": 84,
   "metadata": {},
   "outputs": [
    {
     "data": {
      "text/html": [
       "<div>\n",
       "<style scoped>\n",
       "    .dataframe tbody tr th:only-of-type {\n",
       "        vertical-align: middle;\n",
       "    }\n",
       "\n",
       "    .dataframe tbody tr th {\n",
       "        vertical-align: top;\n",
       "    }\n",
       "\n",
       "    .dataframe thead th {\n",
       "        text-align: right;\n",
       "    }\n",
       "</style>\n",
       "<table border=\"1\" class=\"dataframe\">\n",
       "  <thead>\n",
       "    <tr style=\"text-align: right;\">\n",
       "      <th></th>\n",
       "      <th>location</th>\n",
       "      <th>sub_district</th>\n",
       "      <th>title</th>\n",
       "      <th>price</th>\n",
       "      <th>lt</th>\n",
       "      <th>lb</th>\n",
       "      <th>price_wording</th>\n",
       "    </tr>\n",
       "  </thead>\n",
       "  <tbody>\n",
       "    <tr>\n",
       "      <th>87950</th>\n",
       "      <td>Bekasi</td>\n",
       "      <td>Medan Satria</td>\n",
       "      <td>Rumah Bagus Siap Huni Di Taman Harapan Baru Be...</td>\n",
       "      <td>750000000.0</td>\n",
       "      <td>72.0</td>\n",
       "      <td>60.0</td>\n",
       "      <td>Rp 750 Juta</td>\n",
       "    </tr>\n",
       "    <tr>\n",
       "      <th>13220</th>\n",
       "      <td>Jakarta Timur</td>\n",
       "      <td>Ciracas</td>\n",
       "      <td>Rumah Lama Di PKP, Kelapa Dua Wetan , Ciracas</td>\n",
       "      <td>12500000000.0</td>\n",
       "      <td>817.0</td>\n",
       "      <td>300.0</td>\n",
       "      <td>Rp 12,5 Miliar</td>\n",
       "    </tr>\n",
       "    <tr>\n",
       "      <th>40031</th>\n",
       "      <td>Bogor</td>\n",
       "      <td>Ciomas</td>\n",
       "      <td>RUMAH CANTIK MINIMALIS SIAP HUNI TAMAN PAGELAR...</td>\n",
       "      <td>600000000.0</td>\n",
       "      <td>65.0</td>\n",
       "      <td>100.0</td>\n",
       "      <td>Rp 600 Juta</td>\n",
       "    </tr>\n",
       "    <tr>\n",
       "      <th>58789</th>\n",
       "      <td>Depok</td>\n",
       "      <td>Tapos</td>\n",
       "      <td>Rumah Dekat Tol Dan Stasiun Lrt Cimanggis 20 J...</td>\n",
       "      <td>630000000.0</td>\n",
       "      <td>70.0</td>\n",
       "      <td>36.0</td>\n",
       "      <td>Rp 630 Juta</td>\n",
       "    </tr>\n",
       "    <tr>\n",
       "      <th>12377</th>\n",
       "      <td>Jakarta Timur</td>\n",
       "      <td>Cipayung</td>\n",
       "      <td>Rumah 2 Lantai Baru di Cipayung Kota Jakarta T...</td>\n",
       "      <td>877000000.0</td>\n",
       "      <td>51.0</td>\n",
       "      <td>67.0</td>\n",
       "      <td>Rp 877 Juta</td>\n",
       "    </tr>\n",
       "  </tbody>\n",
       "</table>\n",
       "</div>"
      ],
      "text/plain": [
       "            location  sub_district  \\\n",
       "87950         Bekasi  Medan Satria   \n",
       "13220  Jakarta Timur       Ciracas   \n",
       "40031          Bogor        Ciomas   \n",
       "58789          Depok         Tapos   \n",
       "12377  Jakarta Timur      Cipayung   \n",
       "\n",
       "                                                   title         price    lt  \\\n",
       "87950  Rumah Bagus Siap Huni Di Taman Harapan Baru Be...   750000000.0  72.0   \n",
       "13220     Rumah Lama Di PKP, Kelapa Dua Wetan , Ciracas  12500000000.0 817.0   \n",
       "40031  RUMAH CANTIK MINIMALIS SIAP HUNI TAMAN PAGELAR...   600000000.0  65.0   \n",
       "58789  Rumah Dekat Tol Dan Stasiun Lrt Cimanggis 20 J...   630000000.0  70.0   \n",
       "12377  Rumah 2 Lantai Baru di Cipayung Kota Jakarta T...   877000000.0  51.0   \n",
       "\n",
       "         lb   price_wording  \n",
       "87950  60.0     Rp 750 Juta  \n",
       "13220 300.0  Rp 12,5 Miliar  \n",
       "40031 100.0     Rp 600 Juta  \n",
       "58789  36.0     Rp 630 Juta  \n",
       "12377  67.0     Rp 877 Juta  "
      ]
     },
     "execution_count": 84,
     "metadata": {},
     "output_type": "execute_result"
    }
   ],
   "source": [
    "df.sample(5, random_state=16)"
   ]
  },
  {
   "cell_type": "markdown",
   "metadata": {},
   "source": [
    "### Basic Statistic"
   ]
  },
  {
   "cell_type": "code",
   "execution_count": 70,
   "metadata": {},
   "outputs": [
    {
     "data": {
      "text/html": [
       "<div>\n",
       "<style scoped>\n",
       "    .dataframe tbody tr th:only-of-type {\n",
       "        vertical-align: middle;\n",
       "    }\n",
       "\n",
       "    .dataframe tbody tr th {\n",
       "        vertical-align: top;\n",
       "    }\n",
       "\n",
       "    .dataframe thead th {\n",
       "        text-align: right;\n",
       "    }\n",
       "</style>\n",
       "<table border=\"1\" class=\"dataframe\">\n",
       "  <thead>\n",
       "    <tr style=\"text-align: right;\">\n",
       "      <th></th>\n",
       "      <th>price</th>\n",
       "      <th>lt</th>\n",
       "      <th>lb</th>\n",
       "    </tr>\n",
       "  </thead>\n",
       "  <tbody>\n",
       "    <tr>\n",
       "      <th>count</th>\n",
       "      <td>99205.0</td>\n",
       "      <td>99143.0</td>\n",
       "      <td>98747.0</td>\n",
       "    </tr>\n",
       "    <tr>\n",
       "      <th>mean</th>\n",
       "      <td>4577785150.4</td>\n",
       "      <td>20512.0</td>\n",
       "      <td>240.7</td>\n",
       "    </tr>\n",
       "    <tr>\n",
       "      <th>std</th>\n",
       "      <td>16231654378.7</td>\n",
       "      <td>4729883.4</td>\n",
       "      <td>7100.1</td>\n",
       "    </tr>\n",
       "    <tr>\n",
       "      <th>min</th>\n",
       "      <td>2000000.0</td>\n",
       "      <td>1.0</td>\n",
       "      <td>-385.0</td>\n",
       "    </tr>\n",
       "    <tr>\n",
       "      <th>25%</th>\n",
       "      <td>772000000.0</td>\n",
       "      <td>72.0</td>\n",
       "      <td>63.0</td>\n",
       "    </tr>\n",
       "    <tr>\n",
       "      <th>50%</th>\n",
       "      <td>1570000000.0</td>\n",
       "      <td>108.0</td>\n",
       "      <td>120.0</td>\n",
       "    </tr>\n",
       "    <tr>\n",
       "      <th>75%</th>\n",
       "      <td>3600000000.0</td>\n",
       "      <td>208.0</td>\n",
       "      <td>232.0</td>\n",
       "    </tr>\n",
       "    <tr>\n",
       "      <th>max</th>\n",
       "      <td>995000000000.0</td>\n",
       "      <td>1325000000.0</td>\n",
       "      <td>2105500.0</td>\n",
       "    </tr>\n",
       "  </tbody>\n",
       "</table>\n",
       "</div>"
      ],
      "text/plain": [
       "               price           lt        lb\n",
       "count        99205.0      99143.0   98747.0\n",
       "mean    4577785150.4      20512.0     240.7\n",
       "std    16231654378.7    4729883.4    7100.1\n",
       "min        2000000.0          1.0    -385.0\n",
       "25%      772000000.0         72.0      63.0\n",
       "50%     1570000000.0        108.0     120.0\n",
       "75%     3600000000.0        208.0     232.0\n",
       "max   995000000000.0 1325000000.0 2105500.0"
      ]
     },
     "execution_count": 70,
     "metadata": {},
     "output_type": "execute_result"
    }
   ],
   "source": [
    "df.describe()"
   ]
  },
  {
   "cell_type": "markdown",
   "metadata": {},
   "source": [
    "### Count Null Values"
   ]
  },
  {
   "cell_type": "code",
   "execution_count": 72,
   "metadata": {},
   "outputs": [
    {
     "data": {
      "text/plain": [
       "location           0\n",
       "sub_district       0\n",
       "title              4\n",
       "price              0\n",
       "lt                62\n",
       "lb               458\n",
       "price_wording      0\n",
       "dtype: int64"
      ]
     },
     "execution_count": 72,
     "metadata": {},
     "output_type": "execute_result"
    }
   ],
   "source": [
    "df.isna().sum()"
   ]
  },
  {
   "cell_type": "markdown",
   "metadata": {},
   "source": [
    "### Distribusi Kecamatan"
   ]
  },
  {
   "cell_type": "code",
   "execution_count": 82,
   "metadata": {},
   "outputs": [
    {
     "data": {
      "text/plain": [
       "<Axes: title={'center': 'Distribusi Banyak Instance'}, ylabel='Frequency'>"
      ]
     },
     "execution_count": 82,
     "metadata": {},
     "output_type": "execute_result"
    },
    {
     "data": {
      "image/png": "[encoded data removed]",
      "text/plain": [
       "<Figure size 800x400 with 1 Axes>"
      ]
     },
     "metadata": {},
     "output_type": "display_data"
    }
   ],
   "source": [
    "count_kecamatan = df['sub_district'].value_counts()\n",
    "\n",
    "plt.figure(figsize=(8, 4))\n",
    "plt.title('Distribusi Banyak Instance')\n",
    "plt.xlabel('Jumlah Kecamatan')\n",
    "count_kecamatan.plot(kind='hist', bins=8)"
   ]
  },
  {
   "cell_type": "code",
   "execution_count": null,
   "metadata": {},
   "outputs": [],
   "source": []
  }
 ],
 "metadata": {
  "kernelspec": {
   "display_name": "venv",
   "language": "python",
   "name": "venv"
  },
  "language_info": {
   "codemirror_mode": {
    "name": "ipython",
    "version": 3
   },
   "file_extension": ".py",
   "mimetype": "text/x-python",
   "name": "python",
   "nbconvert_exporter": "python",
   "pygments_lexer": "ipython3",
   "version": "3.11.4"
  }
 },
 "nbformat": 4,
 "nbformat_minor": 2
}
