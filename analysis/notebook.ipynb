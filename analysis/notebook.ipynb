{
 "cells": [
  {
   "cell_type": "code",
   "execution_count": 79,
   "metadata": {},
   "outputs": [],
   "source": [
    "import pandas as pd\n",
    "import numpy as np\n",
    "import matplotlib.pyplot as plt\n",
    "import seaborn as sns\n",
    "import geopandas as gpd \n",
    "from scipy import stats\n",
    "\n",
    "pd.set_option('display.float_format', lambda x: '%.1f' % x)\n",
    "pd.options.display.float_format = '{:,}'.format"
   ]
  },
  {
   "cell_type": "code",
   "execution_count": 80,
   "metadata": {},
   "outputs": [],
   "source": [
    "df = pd.read_csv('../dataset/rumah123_jabodetabek.csv')"
   ]
  },
  {
   "cell_type": "code",
   "execution_count": 81,
   "metadata": {},
   "outputs": [
    {
     "data": {
      "text/html": [
       "<div>\n",
       "<style scoped>\n",
       "    .dataframe tbody tr th:only-of-type {\n",
       "        vertical-align: middle;\n",
       "    }\n",
       "\n",
       "    .dataframe tbody tr th {\n",
       "        vertical-align: top;\n",
       "    }\n",
       "\n",
       "    .dataframe thead th {\n",
       "        text-align: right;\n",
       "    }\n",
       "</style>\n",
       "<table border=\"1\" class=\"dataframe\">\n",
       "  <thead>\n",
       "    <tr style=\"text-align: right;\">\n",
       "      <th></th>\n",
       "      <th>location</th>\n",
       "      <th>sub_district</th>\n",
       "      <th>title</th>\n",
       "      <th>price</th>\n",
       "      <th>lt</th>\n",
       "      <th>lb</th>\n",
       "    </tr>\n",
       "  </thead>\n",
       "  <tbody>\n",
       "    <tr>\n",
       "      <th>10101</th>\n",
       "      <td>jakarta-utara</td>\n",
       "      <td>tanjung-priok</td>\n",
       "      <td>Dijual Kontrakan 10 Pintu Bebas Banjir Daerah ...</td>\n",
       "      <td>Rp 1,9 Miliar</td>\n",
       "      <td>194 m²</td>\n",
       "      <td>350 m²</td>\n",
       "    </tr>\n",
       "    <tr>\n",
       "      <th>32194</th>\n",
       "      <td>jakarta-barat</td>\n",
       "      <td>kalideres</td>\n",
       "      <td>RUMAH MINIMALIS 2 LANTAI FULL SIAP HUNI DI CIT...</td>\n",
       "      <td>Rp 1,9 Miliar</td>\n",
       "      <td>90 m²</td>\n",
       "      <td>144 m²</td>\n",
       "    </tr>\n",
       "    <tr>\n",
       "      <th>37218</th>\n",
       "      <td>bogor</td>\n",
       "      <td>ciawi</td>\n",
       "      <td>Rumah View Gunung Pancar Kawasan Taman Wisata ...</td>\n",
       "      <td>Rp 950 Juta</td>\n",
       "      <td>72 m²</td>\n",
       "      <td>45 m²</td>\n",
       "    </tr>\n",
       "    <tr>\n",
       "      <th>63727</th>\n",
       "      <td>tangerang</td>\n",
       "      <td>larangan</td>\n",
       "      <td>Rumah Baru Siap Huni Model Elegant Larangan Ta...</td>\n",
       "      <td>Rp 2,85 Miliar</td>\n",
       "      <td>280 m²</td>\n",
       "      <td>304 m²</td>\n",
       "    </tr>\n",
       "    <tr>\n",
       "      <th>40244</th>\n",
       "      <td>bogor</td>\n",
       "      <td>cisarua</td>\n",
       "      <td>Dijual Rumah Dengan Pemandangan Gunung Di Cisa...</td>\n",
       "      <td>Rp 14,9 Miliar</td>\n",
       "      <td>8430 m²</td>\n",
       "      <td>1565 m²</td>\n",
       "    </tr>\n",
       "  </tbody>\n",
       "</table>\n",
       "</div>"
      ],
      "text/plain": [
       "            location   sub_district  \\\n",
       "10101  jakarta-utara  tanjung-priok   \n",
       "32194  jakarta-barat      kalideres   \n",
       "37218          bogor          ciawi   \n",
       "63727      tangerang       larangan   \n",
       "40244          bogor        cisarua   \n",
       "\n",
       "                                                   title           price  \\\n",
       "10101  Dijual Kontrakan 10 Pintu Bebas Banjir Daerah ...   Rp 1,9 Miliar   \n",
       "32194  RUMAH MINIMALIS 2 LANTAI FULL SIAP HUNI DI CIT...   Rp 1,9 Miliar   \n",
       "37218  Rumah View Gunung Pancar Kawasan Taman Wisata ...     Rp 950 Juta   \n",
       "63727  Rumah Baru Siap Huni Model Elegant Larangan Ta...  Rp 2,85 Miliar   \n",
       "40244  Dijual Rumah Dengan Pemandangan Gunung Di Cisa...  Rp 14,9 Miliar   \n",
       "\n",
       "              lt         lb  \n",
       "10101     194 m²     350 m²  \n",
       "32194      90 m²     144 m²  \n",
       "37218      72 m²      45 m²  \n",
       "63727     280 m²     304 m²  \n",
       "40244    8430 m²    1565 m²  "
      ]
     },
     "execution_count": 81,
     "metadata": {},
     "output_type": "execute_result"
    }
   ],
   "source": [
    "df.sample(5, random_state=16) # initial dataset"
   ]
  },
  {
   "cell_type": "markdown",
   "metadata": {},
   "source": [
    "## Cleaning"
   ]
  },
  {
   "cell_type": "markdown",
   "metadata": {},
   "source": [
    "### Remove Duplicate Values"
   ]
  },
  {
   "cell_type": "code",
   "execution_count": 82,
   "metadata": {},
   "outputs": [],
   "source": [
    "df = df.drop_duplicates()"
   ]
  },
  {
   "cell_type": "markdown",
   "metadata": {},
   "source": [
    "### Remove Rows with Null Values"
   ]
  },
  {
   "cell_type": "code",
   "execution_count": 83,
   "metadata": {},
   "outputs": [
    {
     "data": {
      "text/plain": [
       "location          0\n",
       "sub_district      0\n",
       "title             3\n",
       "price             0\n",
       "lt               55\n",
       "lb              390\n",
       "dtype: int64"
      ]
     },
     "execution_count": 83,
     "metadata": {},
     "output_type": "execute_result"
    }
   ],
   "source": [
    "df.isna().sum()"
   ]
  },
  {
   "cell_type": "code",
   "execution_count": 84,
   "metadata": {},
   "outputs": [],
   "source": [
    "df = df.dropna()"
   ]
  },
  {
   "cell_type": "code",
   "execution_count": 85,
   "metadata": {},
   "outputs": [
    {
     "data": {
      "text/plain": [
       "location        0\n",
       "sub_district    0\n",
       "title           0\n",
       "price           0\n",
       "lt              0\n",
       "lb              0\n",
       "dtype: int64"
      ]
     },
     "execution_count": 85,
     "metadata": {},
     "output_type": "execute_result"
    }
   ],
   "source": [
    "df.isna().sum()"
   ]
  },
  {
   "cell_type": "markdown",
   "metadata": {},
   "source": [
    "### Change Location and Sub District Formatting"
   ]
  },
  {
   "cell_type": "markdown",
   "metadata": {},
   "source": [
    "#### Replace '-' with blank space (' ')"
   ]
  },
  {
   "cell_type": "code",
   "execution_count": 86,
   "metadata": {},
   "outputs": [],
   "source": [
    "df['sub_district'] = df['sub_district'].str.replace('-', ' ')\n",
    "df['location'] = df['location'].str.replace('-', ' ')"
   ]
  },
  {
   "cell_type": "markdown",
   "metadata": {},
   "source": [
    "#### Capitalize Each Word"
   ]
  },
  {
   "cell_type": "code",
   "execution_count": 87,
   "metadata": {},
   "outputs": [],
   "source": [
    "df['sub_district'] = df['sub_district'].str.title()\n",
    "df['location'] = df['location'].str.title()"
   ]
  },
  {
   "cell_type": "markdown",
   "metadata": {},
   "source": [
    "### Convert price from 'rupiah terbilang' to float"
   ]
  },
  {
   "cell_type": "code",
   "execution_count": 88,
   "metadata": {},
   "outputs": [],
   "source": [
    "df['price_wording'] = df['price']\n",
    "\n",
    "df['price'] = df['price'].str.replace('Rp ', '')\n",
    "df['price'] = df['price'].str.replace('Hubungi', '')\n",
    "df['price'] = df['price'].str.replace(',', '.')\n",
    "\n",
    "df[['price', 'price_unit']] = df['price'].str.split(' ', expand=True)\n",
    "df = df[df['price_unit'] != 'Agen']"
   ]
  },
  {
   "cell_type": "code",
   "execution_count": 89,
   "metadata": {},
   "outputs": [],
   "source": [
    "df['price'] = df['price'].astype(float)\n",
    "\n",
    "def multiply_price(row: float):\n",
    "    if row['price_unit'] == 'Miliar':\n",
    "        return row['price'] * 1_000_000_000\n",
    "    elif row['price_unit'] == 'Juta':\n",
    "        return row['price'] * 1_000_000\n",
    "    else:\n",
    "        return row['price']\n",
    "\n",
    "df['price'] = df.apply(multiply_price, axis=1)\n",
    "\n",
    "df = df.drop(columns=['price_unit'])"
   ]
  },
  {
   "cell_type": "markdown",
   "metadata": {},
   "source": [
    "### Remove square root (m²) unit"
   ]
  },
  {
   "cell_type": "code",
   "execution_count": 90,
   "metadata": {},
   "outputs": [],
   "source": [
    "df['lt'] = df['lt'].str.replace(' m²', '')\n",
    "df['lb'] = df['lb'].str.replace(' m²', '')\n",
    "\n",
    "df['lt'] = df['lt'].astype(float)\n",
    "df['lb'] = df['lb'].astype(float)\n"
   ]
  },
  {
   "cell_type": "markdown",
   "metadata": {},
   "source": [
    "### Filter Based on Domain Knowledge"
   ]
  },
  {
   "cell_type": "markdown",
   "metadata": {},
   "source": [
    "#### Filter Only Values that LT and LB < 5000 meter squared"
   ]
  },
  {
   "cell_type": "code",
   "execution_count": 91,
   "metadata": {},
   "outputs": [],
   "source": [
    "df = df[(df['lt'] < 5_000) & (df['lb'] < 5_000)]"
   ]
  },
  {
   "cell_type": "markdown",
   "metadata": {},
   "source": [
    "#### Remove Rumah dengan Keyword Sewa"
   ]
  },
  {
   "cell_type": "code",
   "execution_count": 92,
   "metadata": {},
   "outputs": [
    {
     "name": "stderr",
     "output_type": "stream",
     "text": [
      "C:\\Users\\lenovo\\AppData\\Local\\Temp\\ipykernel_5748\\2109800375.py:2: UserWarning: Boolean Series key will be reindexed to match DataFrame index.\n",
      "  contain_sewa = contain_sewa[df['price'] < 250_000_000]\n"
     ]
    }
   ],
   "source": [
    "contain_sewa = df[df['title'].str.contains('sewa', case=False)]\n",
    "contain_sewa = contain_sewa[df['price'] < 250_000_000]\n",
    "\n",
    "df = df.drop(contain_sewa.index)"
   ]
  },
  {
   "cell_type": "markdown",
   "metadata": {},
   "source": [
    "#### Remove Rumah dengan Harga di Bawah 100.000.000"
   ]
  },
  {
   "cell_type": "code",
   "execution_count": 93,
   "metadata": {},
   "outputs": [],
   "source": [
    "df = df[df['price'] >= 100_000_000]"
   ]
  },
  {
   "cell_type": "markdown",
   "metadata": {},
   "source": [
    "#### Make Absolute Value of Non-negative Numeric Value"
   ]
  },
  {
   "cell_type": "code",
   "execution_count": 94,
   "metadata": {},
   "outputs": [],
   "source": [
    "df['lb'] = df['lb'].abs()"
   ]
  },
  {
   "cell_type": "markdown",
   "metadata": {},
   "source": [
    "#### Filter only Rumah LT >= 10 and LB > 10"
   ]
  },
  {
   "cell_type": "code",
   "execution_count": 95,
   "metadata": {},
   "outputs": [],
   "source": [
    "df = df[df['lt'] >= 10]\n",
    "df = df[df['lb'] >= 10]"
   ]
  },
  {
   "cell_type": "markdown",
   "metadata": {},
   "source": [
    "## EDA"
   ]
  },
  {
   "cell_type": "markdown",
   "metadata": {},
   "source": [
    "### Sample After Cleaning"
   ]
  },
  {
   "cell_type": "code",
   "execution_count": 96,
   "metadata": {},
   "outputs": [
    {
     "data": {
      "text/html": [
       "<div>\n",
       "<style scoped>\n",
       "    .dataframe tbody tr th:only-of-type {\n",
       "        vertical-align: middle;\n",
       "    }\n",
       "\n",
       "    .dataframe tbody tr th {\n",
       "        vertical-align: top;\n",
       "    }\n",
       "\n",
       "    .dataframe thead th {\n",
       "        text-align: right;\n",
       "    }\n",
       "</style>\n",
       "<table border=\"1\" class=\"dataframe\">\n",
       "  <thead>\n",
       "    <tr style=\"text-align: right;\">\n",
       "      <th></th>\n",
       "      <th>location</th>\n",
       "      <th>sub_district</th>\n",
       "      <th>title</th>\n",
       "      <th>price</th>\n",
       "      <th>lt</th>\n",
       "      <th>lb</th>\n",
       "      <th>price_wording</th>\n",
       "    </tr>\n",
       "  </thead>\n",
       "  <tbody>\n",
       "    <tr>\n",
       "      <th>21601</th>\n",
       "      <td>Jakarta Selatan</td>\n",
       "      <td>Kebayoran Lama</td>\n",
       "      <td>Rumah HOOK LT 1042m² sukabumi selatan kbn jeruk</td>\n",
       "      <td>7,350,000,000.0</td>\n",
       "      <td>1,042.0</td>\n",
       "      <td>500.0</td>\n",
       "      <td>Rp 7,35 Miliar</td>\n",
       "    </tr>\n",
       "    <tr>\n",
       "      <th>8416</th>\n",
       "      <td>Jakarta Utara</td>\n",
       "      <td>Pademangan</td>\n",
       "      <td>Rumah Pademangan Timur</td>\n",
       "      <td>3,500,000,000.0</td>\n",
       "      <td>140.0</td>\n",
       "      <td>490.0</td>\n",
       "      <td>Rp 3,5 Miliar</td>\n",
       "    </tr>\n",
       "    <tr>\n",
       "      <th>46068</th>\n",
       "      <td>Bogor</td>\n",
       "      <td>Parung Panjang</td>\n",
       "      <td>Dijual rumah murah dan keren elsa tanpa DP, fr...</td>\n",
       "      <td>466,000,000.0</td>\n",
       "      <td>60.0</td>\n",
       "      <td>30.0</td>\n",
       "      <td>Rp 466 Juta</td>\n",
       "    </tr>\n",
       "    <tr>\n",
       "      <th>56513</th>\n",
       "      <td>Depok</td>\n",
       "      <td>Sawangan</td>\n",
       "      <td>2 rumah mewah 2 lantai murah banting harga. De...</td>\n",
       "      <td>2,850,000,000.0</td>\n",
       "      <td>853.0</td>\n",
       "      <td>365.0</td>\n",
       "      <td>Rp 2,85 Miliar</td>\n",
       "    </tr>\n",
       "    <tr>\n",
       "      <th>60583</th>\n",
       "      <td>Tangerang</td>\n",
       "      <td>Cipondoh</td>\n",
       "      <td>Dijual Rumah 2 Lantai Cipondoh Cipondoh, Tangg...</td>\n",
       "      <td>1,100,000,000.0</td>\n",
       "      <td>61.0</td>\n",
       "      <td>110.0</td>\n",
       "      <td>Rp 1,1 Miliar</td>\n",
       "    </tr>\n",
       "  </tbody>\n",
       "</table>\n",
       "</div>"
      ],
      "text/plain": [
       "              location    sub_district  \\\n",
       "21601  Jakarta Selatan  Kebayoran Lama   \n",
       "8416     Jakarta Utara      Pademangan   \n",
       "46068            Bogor  Parung Panjang   \n",
       "56513            Depok        Sawangan   \n",
       "60583        Tangerang        Cipondoh   \n",
       "\n",
       "                                                   title           price  \\\n",
       "21601    Rumah HOOK LT 1042m² sukabumi selatan kbn jeruk 7,350,000,000.0   \n",
       "8416                              Rumah Pademangan Timur 3,500,000,000.0   \n",
       "46068  Dijual rumah murah dan keren elsa tanpa DP, fr...   466,000,000.0   \n",
       "56513  2 rumah mewah 2 lantai murah banting harga. De... 2,850,000,000.0   \n",
       "60583  Dijual Rumah 2 Lantai Cipondoh Cipondoh, Tangg... 1,100,000,000.0   \n",
       "\n",
       "           lt    lb   price_wording  \n",
       "21601 1,042.0 500.0  Rp 7,35 Miliar  \n",
       "8416    140.0 490.0   Rp 3,5 Miliar  \n",
       "46068    60.0  30.0     Rp 466 Juta  \n",
       "56513   853.0 365.0  Rp 2,85 Miliar  \n",
       "60583    61.0 110.0   Rp 1,1 Miliar  "
      ]
     },
     "execution_count": 96,
     "metadata": {},
     "output_type": "execute_result"
    }
   ],
   "source": [
    "df.sample(5, random_state=16)"
   ]
  },
  {
   "cell_type": "markdown",
   "metadata": {},
   "source": [
    "### Basic Statistic"
   ]
  },
  {
   "cell_type": "code",
   "execution_count": 97,
   "metadata": {},
   "outputs": [
    {
     "data": {
      "text/html": [
       "<div>\n",
       "<style scoped>\n",
       "    .dataframe tbody tr th:only-of-type {\n",
       "        vertical-align: middle;\n",
       "    }\n",
       "\n",
       "    .dataframe tbody tr th {\n",
       "        vertical-align: top;\n",
       "    }\n",
       "\n",
       "    .dataframe thead th {\n",
       "        text-align: right;\n",
       "    }\n",
       "</style>\n",
       "<table border=\"1\" class=\"dataframe\">\n",
       "  <thead>\n",
       "    <tr style=\"text-align: right;\">\n",
       "      <th></th>\n",
       "      <th>price</th>\n",
       "      <th>lt</th>\n",
       "      <th>lb</th>\n",
       "    </tr>\n",
       "  </thead>\n",
       "  <tbody>\n",
       "    <tr>\n",
       "      <th>count</th>\n",
       "      <td>86,318.0</td>\n",
       "      <td>86,318.0</td>\n",
       "      <td>86,318.0</td>\n",
       "    </tr>\n",
       "    <tr>\n",
       "      <th>mean</th>\n",
       "      <td>4,503,355,140.295188</td>\n",
       "      <td>213.13041312356634</td>\n",
       "      <td>192.9626265668806</td>\n",
       "    </tr>\n",
       "    <tr>\n",
       "      <th>std</th>\n",
       "      <td>16,342,377,067.492025</td>\n",
       "      <td>343.978485249892</td>\n",
       "      <td>241.2824792452854</td>\n",
       "    </tr>\n",
       "    <tr>\n",
       "      <th>min</th>\n",
       "      <td>100,000,000.0</td>\n",
       "      <td>10.0</td>\n",
       "      <td>10.0</td>\n",
       "    </tr>\n",
       "    <tr>\n",
       "      <th>25%</th>\n",
       "      <td>750,000,000.0</td>\n",
       "      <td>72.0</td>\n",
       "      <td>62.0</td>\n",
       "    </tr>\n",
       "    <tr>\n",
       "      <th>50%</th>\n",
       "      <td>1,550,000,000.0</td>\n",
       "      <td>108.0</td>\n",
       "      <td>120.0</td>\n",
       "    </tr>\n",
       "    <tr>\n",
       "      <th>75%</th>\n",
       "      <td>3,570,000,000.0</td>\n",
       "      <td>206.0</td>\n",
       "      <td>230.0</td>\n",
       "    </tr>\n",
       "    <tr>\n",
       "      <th>max</th>\n",
       "      <td>995,000,000,000.0</td>\n",
       "      <td>4,969.0</td>\n",
       "      <td>4,701.0</td>\n",
       "    </tr>\n",
       "  </tbody>\n",
       "</table>\n",
       "</div>"
      ],
      "text/plain": [
       "                      price                 lt                lb\n",
       "count              86,318.0           86,318.0          86,318.0\n",
       "mean   4,503,355,140.295188 213.13041312356634 192.9626265668806\n",
       "std   16,342,377,067.492025   343.978485249892 241.2824792452854\n",
       "min           100,000,000.0               10.0              10.0\n",
       "25%           750,000,000.0               72.0              62.0\n",
       "50%         1,550,000,000.0              108.0             120.0\n",
       "75%         3,570,000,000.0              206.0             230.0\n",
       "max       995,000,000,000.0            4,969.0           4,701.0"
      ]
     },
     "execution_count": 97,
     "metadata": {},
     "output_type": "execute_result"
    }
   ],
   "source": [
    "df.describe()"
   ]
  },
  {
   "cell_type": "markdown",
   "metadata": {},
   "source": [
    "### Distribusi Kecamatan"
   ]
  },
  {
   "cell_type": "code",
   "execution_count": 98,
   "metadata": {},
   "outputs": [
    {
     "data": {
      "text/plain": [
       "<Axes: title={'center': 'Distribusi Banyak Instance Tiap Kecamatan'}, xlabel='Jumlah Kecamatan', ylabel='Frequency'>"
      ]
     },
     "execution_count": 98,
     "metadata": {},
     "output_type": "execute_result"
    },
    {
     "data": {
      "image/png": "[encoded data removed]",
      "text/plain": [
       "<Figure size 432x252 with 1 Axes>"
      ]
     },
     "metadata": {},
     "output_type": "display_data"
    }
   ],
   "source": [
    "count_kecamatan = df['sub_district'].value_counts()\n",
    "\n",
    "plt.figure(figsize=(6, 3.5))\n",
    "plt.title('Distribusi Banyak Instance Tiap Kecamatan')\n",
    "plt.xlabel('Jumlah Kecamatan')\n",
    "# show numbers over the bar\n",
    "count_kecamatan.plot(kind='hist', bins=np.arange(0, 2000, 250), color='skyblue', edgecolor='black')"
   ]
  },
  {
   "cell_type": "markdown",
   "metadata": {},
   "source": [
    "## Analysis"
   ]
  },
  {
   "cell_type": "markdown",
   "metadata": {},
   "source": [
    "### Derived Price/Lt and Price/Lb"
   ]
  },
  {
   "cell_type": "code",
   "execution_count": 99,
   "metadata": {},
   "outputs": [],
   "source": [
    "df['price_per_lt'] = df['price'] / df['lt']\n",
    "df['price_per_lb'] = df['price'] / df['lb']"
   ]
  },
  {
   "cell_type": "code",
   "execution_count": 100,
   "metadata": {},
   "outputs": [
    {
     "data": {
      "text/html": [
       "<div>\n",
       "<style scoped>\n",
       "    .dataframe tbody tr th:only-of-type {\n",
       "        vertical-align: middle;\n",
       "    }\n",
       "\n",
       "    .dataframe tbody tr th {\n",
       "        vertical-align: top;\n",
       "    }\n",
       "\n",
       "    .dataframe thead th {\n",
       "        text-align: right;\n",
       "    }\n",
       "</style>\n",
       "<table border=\"1\" class=\"dataframe\">\n",
       "  <thead>\n",
       "    <tr style=\"text-align: right;\">\n",
       "      <th></th>\n",
       "      <th>location</th>\n",
       "      <th>sub_district</th>\n",
       "      <th>title</th>\n",
       "      <th>price</th>\n",
       "      <th>price_wording</th>\n",
       "      <th>lt</th>\n",
       "      <th>price_per_lt</th>\n",
       "      <th>lb</th>\n",
       "      <th>price_per_lb</th>\n",
       "    </tr>\n",
       "  </thead>\n",
       "  <tbody>\n",
       "    <tr>\n",
       "      <th>21601</th>\n",
       "      <td>Jakarta Selatan</td>\n",
       "      <td>Kebayoran Lama</td>\n",
       "      <td>Rumah HOOK LT 1042m² sukabumi selatan kbn jeruk</td>\n",
       "      <td>7,350,000,000.0</td>\n",
       "      <td>Rp 7,35 Miliar</td>\n",
       "      <td>1,042.0</td>\n",
       "      <td>7,053,742.802303263</td>\n",
       "      <td>500.0</td>\n",
       "      <td>14,700,000.0</td>\n",
       "    </tr>\n",
       "    <tr>\n",
       "      <th>8416</th>\n",
       "      <td>Jakarta Utara</td>\n",
       "      <td>Pademangan</td>\n",
       "      <td>Rumah Pademangan Timur</td>\n",
       "      <td>3,500,000,000.0</td>\n",
       "      <td>Rp 3,5 Miliar</td>\n",
       "      <td>140.0</td>\n",
       "      <td>25,000,000.0</td>\n",
       "      <td>490.0</td>\n",
       "      <td>7,142,857.142857143</td>\n",
       "    </tr>\n",
       "    <tr>\n",
       "      <th>46068</th>\n",
       "      <td>Bogor</td>\n",
       "      <td>Parung Panjang</td>\n",
       "      <td>Dijual rumah murah dan keren elsa tanpa DP, fr...</td>\n",
       "      <td>466,000,000.0</td>\n",
       "      <td>Rp 466 Juta</td>\n",
       "      <td>60.0</td>\n",
       "      <td>7,766,666.666666667</td>\n",
       "      <td>30.0</td>\n",
       "      <td>15,533,333.333333334</td>\n",
       "    </tr>\n",
       "    <tr>\n",
       "      <th>56513</th>\n",
       "      <td>Depok</td>\n",
       "      <td>Sawangan</td>\n",
       "      <td>2 rumah mewah 2 lantai murah banting harga. De...</td>\n",
       "      <td>2,850,000,000.0</td>\n",
       "      <td>Rp 2,85 Miliar</td>\n",
       "      <td>853.0</td>\n",
       "      <td>3,341,148.8862837045</td>\n",
       "      <td>365.0</td>\n",
       "      <td>7,808,219.178082191</td>\n",
       "    </tr>\n",
       "    <tr>\n",
       "      <th>60583</th>\n",
       "      <td>Tangerang</td>\n",
       "      <td>Cipondoh</td>\n",
       "      <td>Dijual Rumah 2 Lantai Cipondoh Cipondoh, Tangg...</td>\n",
       "      <td>1,100,000,000.0</td>\n",
       "      <td>Rp 1,1 Miliar</td>\n",
       "      <td>61.0</td>\n",
       "      <td>18,032,786.8852459</td>\n",
       "      <td>110.0</td>\n",
       "      <td>10,000,000.0</td>\n",
       "    </tr>\n",
       "  </tbody>\n",
       "</table>\n",
       "</div>"
      ],
      "text/plain": [
       "              location    sub_district  \\\n",
       "21601  Jakarta Selatan  Kebayoran Lama   \n",
       "8416     Jakarta Utara      Pademangan   \n",
       "46068            Bogor  Parung Panjang   \n",
       "56513            Depok        Sawangan   \n",
       "60583        Tangerang        Cipondoh   \n",
       "\n",
       "                                                   title           price  \\\n",
       "21601    Rumah HOOK LT 1042m² sukabumi selatan kbn jeruk 7,350,000,000.0   \n",
       "8416                              Rumah Pademangan Timur 3,500,000,000.0   \n",
       "46068  Dijual rumah murah dan keren elsa tanpa DP, fr...   466,000,000.0   \n",
       "56513  2 rumah mewah 2 lantai murah banting harga. De... 2,850,000,000.0   \n",
       "60583  Dijual Rumah 2 Lantai Cipondoh Cipondoh, Tangg... 1,100,000,000.0   \n",
       "\n",
       "        price_wording      lt         price_per_lt    lb         price_per_lb  \n",
       "21601  Rp 7,35 Miliar 1,042.0  7,053,742.802303263 500.0         14,700,000.0  \n",
       "8416    Rp 3,5 Miliar   140.0         25,000,000.0 490.0  7,142,857.142857143  \n",
       "46068     Rp 466 Juta    60.0  7,766,666.666666667  30.0 15,533,333.333333334  \n",
       "56513  Rp 2,85 Miliar   853.0 3,341,148.8862837045 365.0  7,808,219.178082191  \n",
       "60583   Rp 1,1 Miliar    61.0   18,032,786.8852459 110.0         10,000,000.0  "
      ]
     },
     "execution_count": 100,
     "metadata": {},
     "output_type": "execute_result"
    }
   ],
   "source": [
    "df = df[['location', 'sub_district', 'title', 'price', 'price_wording', 'lt', 'price_per_lt', 'lb', 'price_per_lb']]\n",
    "df.sample(5, random_state=16)"
   ]
  },
  {
   "cell_type": "markdown",
   "metadata": {},
   "source": [
    "### Extra Data Cleaning"
   ]
  },
  {
   "cell_type": "markdown",
   "metadata": {},
   "source": [
    "#### Remove Rows that Price/LT and Price/LB > 250.000.000 (For comparisons Sudirman Area has NJOP about 100.000.000)"
   ]
  },
  {
   "cell_type": "code",
   "execution_count": 101,
   "metadata": {},
   "outputs": [],
   "source": [
    "df = df[df['price_per_lt'] <= 250_000_000]"
   ]
  },
  {
   "cell_type": "code",
   "execution_count": 102,
   "metadata": {},
   "outputs": [],
   "source": [
    "df = df[df['price_per_lt'] <= 250_000_000]"
   ]
  },
  {
   "cell_type": "markdown",
   "metadata": {},
   "source": [
    "### Aggregate by Kecamatan"
   ]
  },
  {
   "cell_type": "markdown",
   "metadata": {},
   "source": [
    "#### by Price"
   ]
  },
  {
   "cell_type": "code",
   "execution_count": 103,
   "metadata": {},
   "outputs": [
    {
     "data": {
      "text/html": [
       "<div>\n",
       "<style scoped>\n",
       "    .dataframe tbody tr th:only-of-type {\n",
       "        vertical-align: middle;\n",
       "    }\n",
       "\n",
       "    .dataframe tbody tr th {\n",
       "        vertical-align: top;\n",
       "    }\n",
       "\n",
       "    .dataframe thead tr th {\n",
       "        text-align: left;\n",
       "    }\n",
       "\n",
       "    .dataframe thead tr:last-of-type th {\n",
       "        text-align: right;\n",
       "    }\n",
       "</style>\n",
       "<table border=\"1\" class=\"dataframe\">\n",
       "  <thead>\n",
       "    <tr>\n",
       "      <th></th>\n",
       "      <th colspan=\"6\" halign=\"left\">price</th>\n",
       "    </tr>\n",
       "    <tr>\n",
       "      <th></th>\n",
       "      <th>mean</th>\n",
       "      <th>median</th>\n",
       "      <th>std</th>\n",
       "      <th>min</th>\n",
       "      <th>max</th>\n",
       "      <th>count</th>\n",
       "    </tr>\n",
       "    <tr>\n",
       "      <th>sub_district</th>\n",
       "      <th></th>\n",
       "      <th></th>\n",
       "      <th></th>\n",
       "      <th></th>\n",
       "      <th></th>\n",
       "      <th></th>\n",
       "    </tr>\n",
       "  </thead>\n",
       "  <tbody>\n",
       "    <tr>\n",
       "      <th>Menteng</th>\n",
       "      <td>62,595,662,337.66234</td>\n",
       "      <td>50,000,000,000.0</td>\n",
       "      <td>59,346,253,668.75665</td>\n",
       "      <td>492,000,000.0</td>\n",
       "      <td>550,000,000,000.0</td>\n",
       "      <td>924</td>\n",
       "    </tr>\n",
       "    <tr>\n",
       "      <th>Kebayoran Baru</th>\n",
       "      <td>32,193,832,271.762207</td>\n",
       "      <td>21,250,000,000.0</td>\n",
       "      <td>34,813,359,609.43671</td>\n",
       "      <td>170,000,000.0</td>\n",
       "      <td>296,000,000,000.0</td>\n",
       "      <td>942</td>\n",
       "    </tr>\n",
       "    <tr>\n",
       "      <th>Setiabudi</th>\n",
       "      <td>16,224,004,920.0492</td>\n",
       "      <td>12,000,000,000.0</td>\n",
       "      <td>16,705,469,091.998573</td>\n",
       "      <td>265,000,000.0</td>\n",
       "      <td>140,000,000,000.0</td>\n",
       "      <td>813</td>\n",
       "    </tr>\n",
       "    <tr>\n",
       "      <th>Tanah Abang</th>\n",
       "      <td>14,585,711,985.68873</td>\n",
       "      <td>12,000,000,000.0</td>\n",
       "      <td>16,517,016,642.16032</td>\n",
       "      <td>115,000,000.0</td>\n",
       "      <td>105,000,000,000.0</td>\n",
       "      <td>559</td>\n",
       "    </tr>\n",
       "    <tr>\n",
       "      <th>Kebayoran Lama</th>\n",
       "      <td>13,933,661,830.357143</td>\n",
       "      <td>8,700,000,000.0</td>\n",
       "      <td>18,160,897,666.408424</td>\n",
       "      <td>200,000,000.0</td>\n",
       "      <td>250,000,000,000.0</td>\n",
       "      <td>896</td>\n",
       "    </tr>\n",
       "    <tr>\n",
       "      <th>...</th>\n",
       "      <td>...</td>\n",
       "      <td>...</td>\n",
       "      <td>...</td>\n",
       "      <td>...</td>\n",
       "      <td>...</td>\n",
       "      <td>...</td>\n",
       "    </tr>\n",
       "    <tr>\n",
       "      <th>Jasinga</th>\n",
       "      <td>284,500,000.0</td>\n",
       "      <td>310,000,000.0</td>\n",
       "      <td>86,338,481.18500425</td>\n",
       "      <td>168,000,000.0</td>\n",
       "      <td>350,000,000.0</td>\n",
       "      <td>4</td>\n",
       "    </tr>\n",
       "    <tr>\n",
       "      <th>Leuwisadeng</th>\n",
       "      <td>261,666,666.66666666</td>\n",
       "      <td>300,000,000.0</td>\n",
       "      <td>66,395,280.956806965</td>\n",
       "      <td>185,000,000.0</td>\n",
       "      <td>300,000,000.0</td>\n",
       "      <td>3</td>\n",
       "    </tr>\n",
       "    <tr>\n",
       "      <th>Solear</th>\n",
       "      <td>229,714,285.7142857</td>\n",
       "      <td>185,000,000.0</td>\n",
       "      <td>123,225,514.69775839</td>\n",
       "      <td>115,000,000.0</td>\n",
       "      <td>540,000,000.0</td>\n",
       "      <td>14</td>\n",
       "    </tr>\n",
       "    <tr>\n",
       "      <th>Cisoka</th>\n",
       "      <td>219,722,222.2222222</td>\n",
       "      <td>181,000,000.0</td>\n",
       "      <td>107,257,130.59508944</td>\n",
       "      <td>125,000,000.0</td>\n",
       "      <td>671,000,000.0</td>\n",
       "      <td>36</td>\n",
       "    </tr>\n",
       "    <tr>\n",
       "      <th>Jayanti</th>\n",
       "      <td>182,555,555.55555555</td>\n",
       "      <td>178,000,000.0</td>\n",
       "      <td>10,393,641.218445908</td>\n",
       "      <td>178,000,000.0</td>\n",
       "      <td>210,000,000.0</td>\n",
       "      <td>9</td>\n",
       "    </tr>\n",
       "  </tbody>\n",
       "</table>\n",
       "<p>175 rows × 6 columns</p>\n",
       "</div>"
      ],
      "text/plain": [
       "                               price                                         \\\n",
       "                                mean           median                   std   \n",
       "sub_district                                                                  \n",
       "Menteng         62,595,662,337.66234 50,000,000,000.0  59,346,253,668.75665   \n",
       "Kebayoran Baru 32,193,832,271.762207 21,250,000,000.0  34,813,359,609.43671   \n",
       "Setiabudi        16,224,004,920.0492 12,000,000,000.0 16,705,469,091.998573   \n",
       "Tanah Abang     14,585,711,985.68873 12,000,000,000.0  16,517,016,642.16032   \n",
       "Kebayoran Lama 13,933,661,830.357143  8,700,000,000.0 18,160,897,666.408424   \n",
       "...                              ...              ...                   ...   \n",
       "Jasinga                284,500,000.0    310,000,000.0   86,338,481.18500425   \n",
       "Leuwisadeng     261,666,666.66666666    300,000,000.0  66,395,280.956806965   \n",
       "Solear           229,714,285.7142857    185,000,000.0  123,225,514.69775839   \n",
       "Cisoka           219,722,222.2222222    181,000,000.0  107,257,130.59508944   \n",
       "Jayanti         182,555,555.55555555    178,000,000.0  10,393,641.218445908   \n",
       "\n",
       "                                                      \n",
       "                         min               max count  \n",
       "sub_district                                          \n",
       "Menteng        492,000,000.0 550,000,000,000.0   924  \n",
       "Kebayoran Baru 170,000,000.0 296,000,000,000.0   942  \n",
       "Setiabudi      265,000,000.0 140,000,000,000.0   813  \n",
       "Tanah Abang    115,000,000.0 105,000,000,000.0   559  \n",
       "Kebayoran Lama 200,000,000.0 250,000,000,000.0   896  \n",
       "...                      ...               ...   ...  \n",
       "Jasinga        168,000,000.0     350,000,000.0     4  \n",
       "Leuwisadeng    185,000,000.0     300,000,000.0     3  \n",
       "Solear         115,000,000.0     540,000,000.0    14  \n",
       "Cisoka         125,000,000.0     671,000,000.0    36  \n",
       "Jayanti        178,000,000.0     210,000,000.0     9  \n",
       "\n",
       "[175 rows x 6 columns]"
      ]
     },
     "execution_count": 103,
     "metadata": {},
     "output_type": "execute_result"
    }
   ],
   "source": [
    "df_aggregate_price = df.groupby('sub_district').agg({'price': ['mean', 'median', 'std', 'min', 'max', 'count']})\n",
    "df_aggregate_price = df_aggregate_price.sort_values(by=('price', 'mean'), ascending=False)\n",
    "df_aggregate_price"
   ]
  },
  {
   "cell_type": "code",
   "execution_count": 104,
   "metadata": {},
   "outputs": [
    {
     "data": {
      "text/plain": [
       "['Menteng', 'Kebayoran Baru', 'Setiabudi', 'Tanah Abang', 'Kebayoran Lama']"
      ]
     },
     "execution_count": 104,
     "metadata": {},
     "output_type": "execute_result"
    }
   ],
   "source": [
    "ordered_list_price = df_aggregate_price['price']['mean'].keys().tolist()\n",
    "ordered_list_price[:5]"
   ]
  },
  {
   "cell_type": "markdown",
   "metadata": {},
   "source": [
    "#### by Price / LT"
   ]
  },
  {
   "cell_type": "code",
   "execution_count": 105,
   "metadata": {},
   "outputs": [
    {
     "data": {
      "text/html": [
       "<div>\n",
       "<style scoped>\n",
       "    .dataframe tbody tr th:only-of-type {\n",
       "        vertical-align: middle;\n",
       "    }\n",
       "\n",
       "    .dataframe tbody tr th {\n",
       "        vertical-align: top;\n",
       "    }\n",
       "\n",
       "    .dataframe thead tr th {\n",
       "        text-align: left;\n",
       "    }\n",
       "\n",
       "    .dataframe thead tr:last-of-type th {\n",
       "        text-align: right;\n",
       "    }\n",
       "</style>\n",
       "<table border=\"1\" class=\"dataframe\">\n",
       "  <thead>\n",
       "    <tr>\n",
       "      <th></th>\n",
       "      <th colspan=\"6\" halign=\"left\">price_per_lt</th>\n",
       "    </tr>\n",
       "    <tr>\n",
       "      <th></th>\n",
       "      <th>mean</th>\n",
       "      <th>median</th>\n",
       "      <th>std</th>\n",
       "      <th>min</th>\n",
       "      <th>max</th>\n",
       "      <th>count</th>\n",
       "    </tr>\n",
       "    <tr>\n",
       "      <th>sub_district</th>\n",
       "      <th></th>\n",
       "      <th></th>\n",
       "      <th></th>\n",
       "      <th></th>\n",
       "      <th></th>\n",
       "      <th></th>\n",
       "    </tr>\n",
       "  </thead>\n",
       "  <tbody>\n",
       "    <tr>\n",
       "      <th>Menteng</th>\n",
       "      <td>77,999,093.56651449</td>\n",
       "      <td>75,000,000.0</td>\n",
       "      <td>32,136,734.684205122</td>\n",
       "      <td>9,840,000.0</td>\n",
       "      <td>238,784,370.47756875</td>\n",
       "      <td>924</td>\n",
       "    </tr>\n",
       "    <tr>\n",
       "      <th>Kebayoran Baru</th>\n",
       "      <td>62,988,657.620528206</td>\n",
       "      <td>57,683,228.41726619</td>\n",
       "      <td>30,082,319.590659395</td>\n",
       "      <td>2,258,064.5161290322</td>\n",
       "      <td>234,375,000.0</td>\n",
       "      <td>942</td>\n",
       "    </tr>\n",
       "    <tr>\n",
       "      <th>Tanah Abang</th>\n",
       "      <td>57,169,691.32805772</td>\n",
       "      <td>44,797,687.86127168</td>\n",
       "      <td>39,110,222.91756771</td>\n",
       "      <td>552,000.0</td>\n",
       "      <td>176,470,588.2352941</td>\n",
       "      <td>559</td>\n",
       "    </tr>\n",
       "    <tr>\n",
       "      <th>Setiabudi</th>\n",
       "      <td>41,636,071.131449305</td>\n",
       "      <td>40,000,000.0</td>\n",
       "      <td>20,331,255.378802307</td>\n",
       "      <td>914,340.7122232916</td>\n",
       "      <td>214,285,714.2857143</td>\n",
       "      <td>813</td>\n",
       "    </tr>\n",
       "    <tr>\n",
       "      <th>Gambir</th>\n",
       "      <td>39,854,802.30408101</td>\n",
       "      <td>31,922,680.018345818</td>\n",
       "      <td>23,803,101.099296458</td>\n",
       "      <td>4,222,222.222222222</td>\n",
       "      <td>158,730,158.73015872</td>\n",
       "      <td>324</td>\n",
       "    </tr>\n",
       "    <tr>\n",
       "      <th>...</th>\n",
       "      <td>...</td>\n",
       "      <td>...</td>\n",
       "      <td>...</td>\n",
       "      <td>...</td>\n",
       "      <td>...</td>\n",
       "      <td>...</td>\n",
       "    </tr>\n",
       "    <tr>\n",
       "      <th>Kronjo</th>\n",
       "      <td>2,466,029.1897332664</td>\n",
       "      <td>2,466,029.1897332664</td>\n",
       "      <td>640,559.7413869078</td>\n",
       "      <td>2,013,085.0528434827</td>\n",
       "      <td>2,918,973.32662305</td>\n",
       "      <td>2</td>\n",
       "    </tr>\n",
       "    <tr>\n",
       "      <th>Leuwisadeng</th>\n",
       "      <td>2,462,560.38647343</td>\n",
       "      <td>3,000,000.0</td>\n",
       "      <td>1,003,906.550625532</td>\n",
       "      <td>1,304,347.8260869565</td>\n",
       "      <td>3,083,333.3333333335</td>\n",
       "      <td>3</td>\n",
       "    </tr>\n",
       "    <tr>\n",
       "      <th>Cigudeg</th>\n",
       "      <td>1,956,116.687578419</td>\n",
       "      <td>1,956,116.687578419</td>\n",
       "      <td>1,847,127.9336152228</td>\n",
       "      <td>650,000.0</td>\n",
       "      <td>3,262,233.375156838</td>\n",
       "      <td>2</td>\n",
       "    </tr>\n",
       "    <tr>\n",
       "      <th>Tenjolaya</th>\n",
       "      <td>1,814,886.3589219556</td>\n",
       "      <td>1,663,606.8351927693</td>\n",
       "      <td>1,050,630.238541415</td>\n",
       "      <td>761,904.7619047619</td>\n",
       "      <td>3,711,790.3930131006</td>\n",
       "      <td>6</td>\n",
       "    </tr>\n",
       "    <tr>\n",
       "      <th>Cidaun</th>\n",
       "      <td>1,621,621.6216216215</td>\n",
       "      <td>1,621,621.6216216215</td>\n",
       "      <td>NaN</td>\n",
       "      <td>1,621,621.6216216215</td>\n",
       "      <td>1,621,621.6216216215</td>\n",
       "      <td>1</td>\n",
       "    </tr>\n",
       "  </tbody>\n",
       "</table>\n",
       "<p>175 rows × 6 columns</p>\n",
       "</div>"
      ],
      "text/plain": [
       "                       price_per_lt                                            \\\n",
       "                               mean               median                  std   \n",
       "sub_district                                                                    \n",
       "Menteng         77,999,093.56651449         75,000,000.0 32,136,734.684205122   \n",
       "Kebayoran Baru 62,988,657.620528206  57,683,228.41726619 30,082,319.590659395   \n",
       "Tanah Abang     57,169,691.32805772  44,797,687.86127168  39,110,222.91756771   \n",
       "Setiabudi      41,636,071.131449305         40,000,000.0 20,331,255.378802307   \n",
       "Gambir          39,854,802.30408101 31,922,680.018345818 23,803,101.099296458   \n",
       "...                             ...                  ...                  ...   \n",
       "Kronjo         2,466,029.1897332664 2,466,029.1897332664   640,559.7413869078   \n",
       "Leuwisadeng      2,462,560.38647343          3,000,000.0  1,003,906.550625532   \n",
       "Cigudeg         1,956,116.687578419  1,956,116.687578419 1,847,127.9336152228   \n",
       "Tenjolaya      1,814,886.3589219556 1,663,606.8351927693  1,050,630.238541415   \n",
       "Cidaun         1,621,621.6216216215 1,621,621.6216216215                  NaN   \n",
       "\n",
       "                                                                \n",
       "                                min                  max count  \n",
       "sub_district                                                    \n",
       "Menteng                 9,840,000.0 238,784,370.47756875   924  \n",
       "Kebayoran Baru 2,258,064.5161290322        234,375,000.0   942  \n",
       "Tanah Abang               552,000.0  176,470,588.2352941   559  \n",
       "Setiabudi        914,340.7122232916  214,285,714.2857143   813  \n",
       "Gambir          4,222,222.222222222 158,730,158.73015872   324  \n",
       "...                             ...                  ...   ...  \n",
       "Kronjo         2,013,085.0528434827   2,918,973.32662305     2  \n",
       "Leuwisadeng    1,304,347.8260869565 3,083,333.3333333335     3  \n",
       "Cigudeg                   650,000.0  3,262,233.375156838     2  \n",
       "Tenjolaya        761,904.7619047619 3,711,790.3930131006     6  \n",
       "Cidaun         1,621,621.6216216215 1,621,621.6216216215     1  \n",
       "\n",
       "[175 rows x 6 columns]"
      ]
     },
     "execution_count": 105,
     "metadata": {},
     "output_type": "execute_result"
    }
   ],
   "source": [
    "df_aggregate_price_lt  = df.groupby('sub_district').agg({'price_per_lt': ['mean', 'median', 'std', 'min', 'max', 'count']})\n",
    "df_aggregate_price_lt = df_aggregate_price_lt.sort_values(by=('price_per_lt', 'mean'), ascending=False)\n",
    "df_aggregate_price_lt"
   ]
  },
  {
   "cell_type": "code",
   "execution_count": 106,
   "metadata": {},
   "outputs": [
    {
     "data": {
      "text/plain": [
       "['Menteng', 'Kebayoran Baru', 'Tanah Abang', 'Setiabudi', 'Gambir']"
      ]
     },
     "execution_count": 106,
     "metadata": {},
     "output_type": "execute_result"
    }
   ],
   "source": [
    "ordered_list_price_lt = df_aggregate_price_lt['price_per_lt']['mean'].keys().tolist()\n",
    "ordered_list_price_lt[:5]"
   ]
  },
  {
   "cell_type": "markdown",
   "metadata": {},
   "source": [
    "#### by Price / LB"
   ]
  },
  {
   "cell_type": "code",
   "execution_count": 107,
   "metadata": {},
   "outputs": [
    {
     "data": {
      "text/html": [
       "<div>\n",
       "<style scoped>\n",
       "    .dataframe tbody tr th:only-of-type {\n",
       "        vertical-align: middle;\n",
       "    }\n",
       "\n",
       "    .dataframe tbody tr th {\n",
       "        vertical-align: top;\n",
       "    }\n",
       "\n",
       "    .dataframe thead tr th {\n",
       "        text-align: left;\n",
       "    }\n",
       "\n",
       "    .dataframe thead tr:last-of-type th {\n",
       "        text-align: right;\n",
       "    }\n",
       "</style>\n",
       "<table border=\"1\" class=\"dataframe\">\n",
       "  <thead>\n",
       "    <tr>\n",
       "      <th></th>\n",
       "      <th colspan=\"6\" halign=\"left\">price_per_lb</th>\n",
       "    </tr>\n",
       "    <tr>\n",
       "      <th></th>\n",
       "      <th>mean</th>\n",
       "      <th>median</th>\n",
       "      <th>std</th>\n",
       "      <th>min</th>\n",
       "      <th>max</th>\n",
       "      <th>count</th>\n",
       "    </tr>\n",
       "    <tr>\n",
       "      <th>sub_district</th>\n",
       "      <th></th>\n",
       "      <th></th>\n",
       "      <th></th>\n",
       "      <th></th>\n",
       "      <th></th>\n",
       "      <th></th>\n",
       "    </tr>\n",
       "  </thead>\n",
       "  <tbody>\n",
       "    <tr>\n",
       "      <th>Menteng</th>\n",
       "      <td>95,419,891.7017507</td>\n",
       "      <td>76,204,225.35211268</td>\n",
       "      <td>84,228,847.06430878</td>\n",
       "      <td>7,809,523.80952381</td>\n",
       "      <td>1,250,000,000.0</td>\n",
       "      <td>924</td>\n",
       "    </tr>\n",
       "    <tr>\n",
       "      <th>Kebayoran Baru</th>\n",
       "      <td>67,579,316.1067238</td>\n",
       "      <td>55,634,920.634920634</td>\n",
       "      <td>50,794,195.40603553</td>\n",
       "      <td>2,827,140.549273021</td>\n",
       "      <td>550,000,000.0</td>\n",
       "      <td>942</td>\n",
       "    </tr>\n",
       "    <tr>\n",
       "      <th>Setiabudi</th>\n",
       "      <td>43,878,285.14485748</td>\n",
       "      <td>37,500,000.0</td>\n",
       "      <td>34,236,081.67289217</td>\n",
       "      <td>633,333.3333333334</td>\n",
       "      <td>466,666,666.6666667</td>\n",
       "      <td>813</td>\n",
       "    </tr>\n",
       "    <tr>\n",
       "      <th>Tanah Abang</th>\n",
       "      <td>35,794,946.47199516</td>\n",
       "      <td>25,098,814.22924901</td>\n",
       "      <td>27,392,777.590620104</td>\n",
       "      <td>1,604,938.2716049382</td>\n",
       "      <td>259,259,259.25925925</td>\n",
       "      <td>559</td>\n",
       "    </tr>\n",
       "    <tr>\n",
       "      <th>Kebayoran Lama</th>\n",
       "      <td>33,618,565.869940296</td>\n",
       "      <td>25,025,050.1002004</td>\n",
       "      <td>32,644,891.15711953</td>\n",
       "      <td>3,250,000.0</td>\n",
       "      <td>470,000,000.0</td>\n",
       "      <td>896</td>\n",
       "    </tr>\n",
       "    <tr>\n",
       "      <th>...</th>\n",
       "      <td>...</td>\n",
       "      <td>...</td>\n",
       "      <td>...</td>\n",
       "      <td>...</td>\n",
       "      <td>...</td>\n",
       "      <td>...</td>\n",
       "    </tr>\n",
       "    <tr>\n",
       "      <th>Solear</th>\n",
       "      <td>5,140,740.740740741</td>\n",
       "      <td>5,236,111.111111112</td>\n",
       "      <td>1,558,095.2422760862</td>\n",
       "      <td>2,600,000.0</td>\n",
       "      <td>7,500,000.0</td>\n",
       "      <td>14</td>\n",
       "    </tr>\n",
       "    <tr>\n",
       "      <th>Mande</th>\n",
       "      <td>5,006,630.379699304</td>\n",
       "      <td>4,500,000.0</td>\n",
       "      <td>2,217,605.1280174395</td>\n",
       "      <td>1,652,892.561983471</td>\n",
       "      <td>8,166,666.666666667</td>\n",
       "      <td>9</td>\n",
       "    </tr>\n",
       "    <tr>\n",
       "      <th>Leuwisadeng</th>\n",
       "      <td>4,305,555.555555556</td>\n",
       "      <td>3,750,000.0</td>\n",
       "      <td>1,654,819.0009562762</td>\n",
       "      <td>3,000,000.0</td>\n",
       "      <td>6,166,666.666666667</td>\n",
       "      <td>3</td>\n",
       "    </tr>\n",
       "    <tr>\n",
       "      <th>Kronjo</th>\n",
       "      <td>3,500,000.0</td>\n",
       "      <td>3,500,000.0</td>\n",
       "      <td>909,137.2900969895</td>\n",
       "      <td>2,857,142.8571428573</td>\n",
       "      <td>4,142,857.1428571427</td>\n",
       "      <td>2</td>\n",
       "    </tr>\n",
       "    <tr>\n",
       "      <th>Cibeber</th>\n",
       "      <td>2,568,627.4509803923</td>\n",
       "      <td>2,568,627.4509803923</td>\n",
       "      <td>804,160.6531141129</td>\n",
       "      <td>2,000,000.0</td>\n",
       "      <td>3,137,254.901960784</td>\n",
       "      <td>2</td>\n",
       "    </tr>\n",
       "  </tbody>\n",
       "</table>\n",
       "<p>175 rows × 6 columns</p>\n",
       "</div>"
      ],
      "text/plain": [
       "                       price_per_lb                                            \\\n",
       "                               mean               median                  std   \n",
       "sub_district                                                                    \n",
       "Menteng          95,419,891.7017507  76,204,225.35211268  84,228,847.06430878   \n",
       "Kebayoran Baru   67,579,316.1067238 55,634,920.634920634  50,794,195.40603553   \n",
       "Setiabudi       43,878,285.14485748         37,500,000.0  34,236,081.67289217   \n",
       "Tanah Abang     35,794,946.47199516  25,098,814.22924901 27,392,777.590620104   \n",
       "Kebayoran Lama 33,618,565.869940296   25,025,050.1002004  32,644,891.15711953   \n",
       "...                             ...                  ...                  ...   \n",
       "Solear          5,140,740.740740741  5,236,111.111111112 1,558,095.2422760862   \n",
       "Mande           5,006,630.379699304          4,500,000.0 2,217,605.1280174395   \n",
       "Leuwisadeng     4,305,555.555555556          3,750,000.0 1,654,819.0009562762   \n",
       "Kronjo                  3,500,000.0          3,500,000.0   909,137.2900969895   \n",
       "Cibeber        2,568,627.4509803923 2,568,627.4509803923   804,160.6531141129   \n",
       "\n",
       "                                                                \n",
       "                                min                  max count  \n",
       "sub_district                                                    \n",
       "Menteng          7,809,523.80952381      1,250,000,000.0   924  \n",
       "Kebayoran Baru  2,827,140.549273021        550,000,000.0   942  \n",
       "Setiabudi        633,333.3333333334  466,666,666.6666667   813  \n",
       "Tanah Abang    1,604,938.2716049382 259,259,259.25925925   559  \n",
       "Kebayoran Lama          3,250,000.0        470,000,000.0   896  \n",
       "...                             ...                  ...   ...  \n",
       "Solear                  2,600,000.0          7,500,000.0    14  \n",
       "Mande           1,652,892.561983471  8,166,666.666666667     9  \n",
       "Leuwisadeng             3,000,000.0  6,166,666.666666667     3  \n",
       "Kronjo         2,857,142.8571428573 4,142,857.1428571427     2  \n",
       "Cibeber                 2,000,000.0  3,137,254.901960784     2  \n",
       "\n",
       "[175 rows x 6 columns]"
      ]
     },
     "execution_count": 107,
     "metadata": {},
     "output_type": "execute_result"
    }
   ],
   "source": [
    "df_aggregate_price_lb = df.groupby('sub_district').agg({'price_per_lb': ['mean', 'median', 'std', 'min', 'max', 'count']})\n",
    "df_aggregate_price_lb = df_aggregate_price_lb.sort_values(by=('price_per_lb', 'mean'), ascending=False)\n",
    "df_aggregate_price_lb"
   ]
  },
  {
   "cell_type": "code",
   "execution_count": 108,
   "metadata": {},
   "outputs": [
    {
     "data": {
      "text/plain": [
       "['Menteng', 'Kebayoran Baru', 'Setiabudi', 'Tanah Abang', 'Kebayoran Lama']"
      ]
     },
     "execution_count": 108,
     "metadata": {},
     "output_type": "execute_result"
    }
   ],
   "source": [
    "ordered_list_price_lb = df_aggregate_price_lb['price_per_lb']['mean'].keys().tolist()\n",
    "ordered_list_price_lb[:5]"
   ]
  },
  {
   "cell_type": "markdown",
   "metadata": {},
   "source": [
    "### Aggregate by Kota"
   ]
  },
  {
   "cell_type": "markdown",
   "metadata": {},
   "source": [
    "#### by Price"
   ]
  },
  {
   "cell_type": "code",
   "execution_count": 109,
   "metadata": {},
   "outputs": [
    {
     "data": {
      "text/html": [
       "<div>\n",
       "<style scoped>\n",
       "    .dataframe tbody tr th:only-of-type {\n",
       "        vertical-align: middle;\n",
       "    }\n",
       "\n",
       "    .dataframe tbody tr th {\n",
       "        vertical-align: top;\n",
       "    }\n",
       "\n",
       "    .dataframe thead tr th {\n",
       "        text-align: left;\n",
       "    }\n",
       "\n",
       "    .dataframe thead tr:last-of-type th {\n",
       "        text-align: right;\n",
       "    }\n",
       "</style>\n",
       "<table border=\"1\" class=\"dataframe\">\n",
       "  <thead>\n",
       "    <tr>\n",
       "      <th></th>\n",
       "      <th colspan=\"6\" halign=\"left\">price</th>\n",
       "    </tr>\n",
       "    <tr>\n",
       "      <th></th>\n",
       "      <th>mean</th>\n",
       "      <th>median</th>\n",
       "      <th>std</th>\n",
       "      <th>min</th>\n",
       "      <th>max</th>\n",
       "      <th>count</th>\n",
       "    </tr>\n",
       "    <tr>\n",
       "      <th>location</th>\n",
       "      <th></th>\n",
       "      <th></th>\n",
       "      <th></th>\n",
       "      <th></th>\n",
       "      <th></th>\n",
       "      <th></th>\n",
       "    </tr>\n",
       "  </thead>\n",
       "  <tbody>\n",
       "    <tr>\n",
       "      <th>Jakarta Pusat</th>\n",
       "      <td>18,311,181,186.015068</td>\n",
       "      <td>6,800,000,000.0</td>\n",
       "      <td>34,526,750,207.01236</td>\n",
       "      <td>115,000,000.0</td>\n",
       "      <td>550,000,000,000.0</td>\n",
       "      <td>5177</td>\n",
       "    </tr>\n",
       "    <tr>\n",
       "      <th>Jakarta Selatan</th>\n",
       "      <td>12,362,280,310.593456</td>\n",
       "      <td>7,100,000,000.0</td>\n",
       "      <td>17,461,445,735.035976</td>\n",
       "      <td>150,000,000.0</td>\n",
       "      <td>296,000,000,000.0</td>\n",
       "      <td>9015</td>\n",
       "    </tr>\n",
       "    <tr>\n",
       "      <th>Kepulauan Seribu</th>\n",
       "      <td>6,500,000,000.0</td>\n",
       "      <td>6,500,000,000.0</td>\n",
       "      <td>0.0</td>\n",
       "      <td>6,500,000,000.0</td>\n",
       "      <td>6,500,000,000.0</td>\n",
       "      <td>2</td>\n",
       "    </tr>\n",
       "    <tr>\n",
       "      <th>Jakarta Barat</th>\n",
       "      <td>5,341,116,666.666667</td>\n",
       "      <td>3,500,000,000.0</td>\n",
       "      <td>6,407,151,039.942303</td>\n",
       "      <td>110,000,000.0</td>\n",
       "      <td>85,000,000,000.0</td>\n",
       "      <td>5100</td>\n",
       "    </tr>\n",
       "    <tr>\n",
       "      <th>Jakarta Utara</th>\n",
       "      <td>4,753,384,081.329036</td>\n",
       "      <td>2,750,000,000.0</td>\n",
       "      <td>6,582,723,063.939593</td>\n",
       "      <td>237,000,000.0</td>\n",
       "      <td>80,000,000,000.0</td>\n",
       "      <td>4033</td>\n",
       "    </tr>\n",
       "    <tr>\n",
       "      <th>Jakarta Timur</th>\n",
       "      <td>3,933,829,053.095951</td>\n",
       "      <td>2,600,000,000.0</td>\n",
       "      <td>4,608,972,542.39517</td>\n",
       "      <td>100,000,000.0</td>\n",
       "      <td>90,000,000,000.0</td>\n",
       "      <td>6347</td>\n",
       "    </tr>\n",
       "    <tr>\n",
       "      <th>Tangerang Selatan</th>\n",
       "      <td>2,294,773,688.7360277</td>\n",
       "      <td>1,570,000,000.0</td>\n",
       "      <td>2,513,587,582.2357407</td>\n",
       "      <td>111,000,000.0</td>\n",
       "      <td>39,900,000,000.0</td>\n",
       "      <td>5815</td>\n",
       "    </tr>\n",
       "    <tr>\n",
       "      <th>Tangerang</th>\n",
       "      <td>1,947,973,379.5493934</td>\n",
       "      <td>1,350,000,000.0</td>\n",
       "      <td>2,675,217,584.6706786</td>\n",
       "      <td>100,000,000.0</td>\n",
       "      <td>60,200,000,000.0</td>\n",
       "      <td>14425</td>\n",
       "    </tr>\n",
       "    <tr>\n",
       "      <th>Cianjur</th>\n",
       "      <td>1,918,219,047.6190476</td>\n",
       "      <td>899,000,000.0</td>\n",
       "      <td>2,917,941,294.8484173</td>\n",
       "      <td>125,000,000.0</td>\n",
       "      <td>25,000,000,000.0</td>\n",
       "      <td>735</td>\n",
       "    </tr>\n",
       "    <tr>\n",
       "      <th>Depok</th>\n",
       "      <td>1,553,493,625.852357</td>\n",
       "      <td>900,000,000.0</td>\n",
       "      <td>2,407,622,653.5730886</td>\n",
       "      <td>100,000,000.0</td>\n",
       "      <td>77,000,000,000.0</td>\n",
       "      <td>10119</td>\n",
       "    </tr>\n",
       "    <tr>\n",
       "      <th>Bogor</th>\n",
       "      <td>1,514,286,486.4864864</td>\n",
       "      <td>775,000,000.0</td>\n",
       "      <td>2,594,039,812.403569</td>\n",
       "      <td>100,000,000.0</td>\n",
       "      <td>49,900,000,000.0</td>\n",
       "      <td>12580</td>\n",
       "    </tr>\n",
       "    <tr>\n",
       "      <th>Bekasi</th>\n",
       "      <td>1,257,154,268.4812868</td>\n",
       "      <td>800,000,000.0</td>\n",
       "      <td>1,781,697,179.4665477</td>\n",
       "      <td>100,000,000.0</td>\n",
       "      <td>45,000,000,000.0</td>\n",
       "      <td>12932</td>\n",
       "    </tr>\n",
       "  </tbody>\n",
       "</table>\n",
       "</div>"
      ],
      "text/plain": [
       "                                  price                                        \\\n",
       "                                   mean          median                   std   \n",
       "location                                                                        \n",
       "Jakarta Pusat     18,311,181,186.015068 6,800,000,000.0  34,526,750,207.01236   \n",
       "Jakarta Selatan   12,362,280,310.593456 7,100,000,000.0 17,461,445,735.035976   \n",
       "Kepulauan Seribu        6,500,000,000.0 6,500,000,000.0                   0.0   \n",
       "Jakarta Barat      5,341,116,666.666667 3,500,000,000.0  6,407,151,039.942303   \n",
       "Jakarta Utara      4,753,384,081.329036 2,750,000,000.0  6,582,723,063.939593   \n",
       "Jakarta Timur      3,933,829,053.095951 2,600,000,000.0   4,608,972,542.39517   \n",
       "Tangerang Selatan 2,294,773,688.7360277 1,570,000,000.0 2,513,587,582.2357407   \n",
       "Tangerang         1,947,973,379.5493934 1,350,000,000.0 2,675,217,584.6706786   \n",
       "Cianjur           1,918,219,047.6190476   899,000,000.0 2,917,941,294.8484173   \n",
       "Depok              1,553,493,625.852357   900,000,000.0 2,407,622,653.5730886   \n",
       "Bogor             1,514,286,486.4864864   775,000,000.0  2,594,039,812.403569   \n",
       "Bekasi            1,257,154,268.4812868   800,000,000.0 1,781,697,179.4665477   \n",
       "\n",
       "                                                            \n",
       "                              min               max  count  \n",
       "location                                                    \n",
       "Jakarta Pusat       115,000,000.0 550,000,000,000.0   5177  \n",
       "Jakarta Selatan     150,000,000.0 296,000,000,000.0   9015  \n",
       "Kepulauan Seribu  6,500,000,000.0   6,500,000,000.0      2  \n",
       "Jakarta Barat       110,000,000.0  85,000,000,000.0   5100  \n",
       "Jakarta Utara       237,000,000.0  80,000,000,000.0   4033  \n",
       "Jakarta Timur       100,000,000.0  90,000,000,000.0   6347  \n",
       "Tangerang Selatan   111,000,000.0  39,900,000,000.0   5815  \n",
       "Tangerang           100,000,000.0  60,200,000,000.0  14425  \n",
       "Cianjur             125,000,000.0  25,000,000,000.0    735  \n",
       "Depok               100,000,000.0  77,000,000,000.0  10119  \n",
       "Bogor               100,000,000.0  49,900,000,000.0  12580  \n",
       "Bekasi              100,000,000.0  45,000,000,000.0  12932  "
      ]
     },
     "execution_count": 109,
     "metadata": {},
     "output_type": "execute_result"
    }
   ],
   "source": [
    "df_aggregate_price_city = df.groupby('location').agg({'price': ['mean', 'median', 'std', 'min', 'max', 'count']})\n",
    "df_aggregate_price_city = df_aggregate_price_city.sort_values(by=('price', 'mean'), ascending=False)\n",
    "df_aggregate_price_city"
   ]
  },
  {
   "cell_type": "code",
   "execution_count": 110,
   "metadata": {},
   "outputs": [
    {
     "data": {
      "text/plain": [
       "['Jakarta Pusat',\n",
       " 'Jakarta Selatan',\n",
       " 'Kepulauan Seribu',\n",
       " 'Jakarta Barat',\n",
       " 'Jakarta Utara']"
      ]
     },
     "execution_count": 110,
     "metadata": {},
     "output_type": "execute_result"
    }
   ],
   "source": [
    "ordered_list_price_city = df_aggregate_price_city['price']['mean'].keys().tolist()\n",
    "ordered_list_price_city[:5]"
   ]
  },
  {
   "cell_type": "markdown",
   "metadata": {},
   "source": [
    "#### by Price / LT"
   ]
  },
  {
   "cell_type": "code",
   "execution_count": 111,
   "metadata": {},
   "outputs": [
    {
     "data": {
      "text/html": [
       "<div>\n",
       "<style scoped>\n",
       "    .dataframe tbody tr th:only-of-type {\n",
       "        vertical-align: middle;\n",
       "    }\n",
       "\n",
       "    .dataframe tbody tr th {\n",
       "        vertical-align: top;\n",
       "    }\n",
       "\n",
       "    .dataframe thead tr th {\n",
       "        text-align: left;\n",
       "    }\n",
       "\n",
       "    .dataframe thead tr:last-of-type th {\n",
       "        text-align: right;\n",
       "    }\n",
       "</style>\n",
       "<table border=\"1\" class=\"dataframe\">\n",
       "  <thead>\n",
       "    <tr>\n",
       "      <th></th>\n",
       "      <th colspan=\"6\" halign=\"left\">price_per_lt</th>\n",
       "    </tr>\n",
       "    <tr>\n",
       "      <th></th>\n",
       "      <th>mean</th>\n",
       "      <th>median</th>\n",
       "      <th>std</th>\n",
       "      <th>min</th>\n",
       "      <th>max</th>\n",
       "      <th>count</th>\n",
       "    </tr>\n",
       "    <tr>\n",
       "      <th>location</th>\n",
       "      <th></th>\n",
       "      <th></th>\n",
       "      <th></th>\n",
       "      <th></th>\n",
       "      <th></th>\n",
       "      <th></th>\n",
       "    </tr>\n",
       "  </thead>\n",
       "  <tbody>\n",
       "    <tr>\n",
       "      <th>Jakarta Pusat</th>\n",
       "      <td>39,737,143.14097058</td>\n",
       "      <td>29,411,764.70588235</td>\n",
       "      <td>29,770,119.841257762</td>\n",
       "      <td>552,000.0</td>\n",
       "      <td>238,784,370.47756875</td>\n",
       "      <td>5177</td>\n",
       "    </tr>\n",
       "    <tr>\n",
       "      <th>Jakarta Selatan</th>\n",
       "      <td>31,940,517.381345633</td>\n",
       "      <td>26,548,672.566371683</td>\n",
       "      <td>20,642,553.463217635</td>\n",
       "      <td>566,037.7358490566</td>\n",
       "      <td>248,322,147.6510067</td>\n",
       "      <td>9015</td>\n",
       "    </tr>\n",
       "    <tr>\n",
       "      <th>Kepulauan Seribu</th>\n",
       "      <td>26,000,000.0</td>\n",
       "      <td>26,000,000.0</td>\n",
       "      <td>0.0</td>\n",
       "      <td>26,000,000.0</td>\n",
       "      <td>26,000,000.0</td>\n",
       "      <td>2</td>\n",
       "    </tr>\n",
       "    <tr>\n",
       "      <th>Jakarta Utara</th>\n",
       "      <td>25,600,510.899362423</td>\n",
       "      <td>24,652,777.777777776</td>\n",
       "      <td>12,321,397.57279566</td>\n",
       "      <td>1,034,482.7586206896</td>\n",
       "      <td>195,652,173.91304347</td>\n",
       "      <td>4033</td>\n",
       "    </tr>\n",
       "    <tr>\n",
       "      <th>Jakarta Barat</th>\n",
       "      <td>25,203,068.54865647</td>\n",
       "      <td>23,498,697.786236603</td>\n",
       "      <td>11,643,433.742505139</td>\n",
       "      <td>694,444.4444444445</td>\n",
       "      <td>219,512,195.12195122</td>\n",
       "      <td>5100</td>\n",
       "    </tr>\n",
       "    <tr>\n",
       "      <th>Jakarta Timur</th>\n",
       "      <td>18,771,712.684313025</td>\n",
       "      <td>17,721,893.49112426</td>\n",
       "      <td>8,864,205.363791265</td>\n",
       "      <td>1,282,051.282051282</td>\n",
       "      <td>236,000,000.0</td>\n",
       "      <td>6347</td>\n",
       "    </tr>\n",
       "    <tr>\n",
       "      <th>Tangerang</th>\n",
       "      <td>14,937,061.647822933</td>\n",
       "      <td>12,727,272.727272727</td>\n",
       "      <td>9,319,063.922807656</td>\n",
       "      <td>578,034.6820809249</td>\n",
       "      <td>227,272,727.27272728</td>\n",
       "      <td>14425</td>\n",
       "    </tr>\n",
       "    <tr>\n",
       "      <th>Tangerang Selatan</th>\n",
       "      <td>14,900,683.460660877</td>\n",
       "      <td>13,750,000.0</td>\n",
       "      <td>6,665,874.421741404</td>\n",
       "      <td>1,541,666.6666666667</td>\n",
       "      <td>113,114,754.09836066</td>\n",
       "      <td>5815</td>\n",
       "    </tr>\n",
       "    <tr>\n",
       "      <th>Depok</th>\n",
       "      <td>11,503,125.258045083</td>\n",
       "      <td>10,666,666.666666666</td>\n",
       "      <td>6,066,154.261308018</td>\n",
       "      <td>932,504.4404973357</td>\n",
       "      <td>157,894,736.84210527</td>\n",
       "      <td>10119</td>\n",
       "    </tr>\n",
       "    <tr>\n",
       "      <th>Bekasi</th>\n",
       "      <td>9,859,521.424840286</td>\n",
       "      <td>8,750,000.0</td>\n",
       "      <td>5,239,311.614968724</td>\n",
       "      <td>200,000.0</td>\n",
       "      <td>220,930,232.55813953</td>\n",
       "      <td>12932</td>\n",
       "    </tr>\n",
       "    <tr>\n",
       "      <th>Bogor</th>\n",
       "      <td>8,324,835.2506034365</td>\n",
       "      <td>7,440,864.7270918805</td>\n",
       "      <td>4,852,960.757584278</td>\n",
       "      <td>387,755.10204081633</td>\n",
       "      <td>166,666,666.66666666</td>\n",
       "      <td>12580</td>\n",
       "    </tr>\n",
       "    <tr>\n",
       "      <th>Cianjur</th>\n",
       "      <td>4,519,286.599490409</td>\n",
       "      <td>3,500,000.0</td>\n",
       "      <td>4,623,244.855107672</td>\n",
       "      <td>228,494.62365591398</td>\n",
       "      <td>71,428,571.42857143</td>\n",
       "      <td>735</td>\n",
       "    </tr>\n",
       "  </tbody>\n",
       "</table>\n",
       "</div>"
      ],
      "text/plain": [
       "                          price_per_lt                       \\\n",
       "                                  mean               median   \n",
       "location                                                      \n",
       "Jakarta Pusat      39,737,143.14097058  29,411,764.70588235   \n",
       "Jakarta Selatan   31,940,517.381345633 26,548,672.566371683   \n",
       "Kepulauan Seribu          26,000,000.0         26,000,000.0   \n",
       "Jakarta Utara     25,600,510.899362423 24,652,777.777777776   \n",
       "Jakarta Barat      25,203,068.54865647 23,498,697.786236603   \n",
       "Jakarta Timur     18,771,712.684313025  17,721,893.49112426   \n",
       "Tangerang         14,937,061.647822933 12,727,272.727272727   \n",
       "Tangerang Selatan 14,900,683.460660877         13,750,000.0   \n",
       "Depok             11,503,125.258045083 10,666,666.666666666   \n",
       "Bekasi             9,859,521.424840286          8,750,000.0   \n",
       "Bogor             8,324,835.2506034365 7,440,864.7270918805   \n",
       "Cianjur            4,519,286.599490409          3,500,000.0   \n",
       "\n",
       "                                                             \\\n",
       "                                   std                  min   \n",
       "location                                                      \n",
       "Jakarta Pusat     29,770,119.841257762            552,000.0   \n",
       "Jakarta Selatan   20,642,553.463217635   566,037.7358490566   \n",
       "Kepulauan Seribu                   0.0         26,000,000.0   \n",
       "Jakarta Utara      12,321,397.57279566 1,034,482.7586206896   \n",
       "Jakarta Barat     11,643,433.742505139   694,444.4444444445   \n",
       "Jakarta Timur      8,864,205.363791265  1,282,051.282051282   \n",
       "Tangerang          9,319,063.922807656   578,034.6820809249   \n",
       "Tangerang Selatan  6,665,874.421741404 1,541,666.6666666667   \n",
       "Depok              6,066,154.261308018   932,504.4404973357   \n",
       "Bekasi             5,239,311.614968724            200,000.0   \n",
       "Bogor              4,852,960.757584278  387,755.10204081633   \n",
       "Cianjur            4,623,244.855107672  228,494.62365591398   \n",
       "\n",
       "                                               \n",
       "                                   max  count  \n",
       "location                                       \n",
       "Jakarta Pusat     238,784,370.47756875   5177  \n",
       "Jakarta Selatan    248,322,147.6510067   9015  \n",
       "Kepulauan Seribu          26,000,000.0      2  \n",
       "Jakarta Utara     195,652,173.91304347   4033  \n",
       "Jakarta Barat     219,512,195.12195122   5100  \n",
       "Jakarta Timur            236,000,000.0   6347  \n",
       "Tangerang         227,272,727.27272728  14425  \n",
       "Tangerang Selatan 113,114,754.09836066   5815  \n",
       "Depok             157,894,736.84210527  10119  \n",
       "Bekasi            220,930,232.55813953  12932  \n",
       "Bogor             166,666,666.66666666  12580  \n",
       "Cianjur            71,428,571.42857143    735  "
      ]
     },
     "execution_count": 111,
     "metadata": {},
     "output_type": "execute_result"
    }
   ],
   "source": [
    "df_aggregate_price_lt_city  = df.groupby('location').agg({'price_per_lt': ['mean', 'median', 'std', 'min', 'max', 'count']})\n",
    "df_aggregate_price_lt_city = df_aggregate_price_lt_city.sort_values(by=('price_per_lt', 'mean'), ascending=False)\n",
    "df_aggregate_price_lt_city"
   ]
  },
  {
   "cell_type": "code",
   "execution_count": 112,
   "metadata": {},
   "outputs": [
    {
     "data": {
      "text/plain": [
       "['Jakarta Pusat',\n",
       " 'Jakarta Selatan',\n",
       " 'Kepulauan Seribu',\n",
       " 'Jakarta Utara',\n",
       " 'Jakarta Barat']"
      ]
     },
     "execution_count": 112,
     "metadata": {},
     "output_type": "execute_result"
    }
   ],
   "source": [
    "ordered_list_price_lt_city = df_aggregate_price_lt_city['price_per_lt']['mean'].keys().tolist()\n",
    "ordered_list_price_lt_city[:5]"
   ]
  },
  {
   "cell_type": "markdown",
   "metadata": {},
   "source": [
    "#### by Price / LB"
   ]
  },
  {
   "cell_type": "code",
   "execution_count": 113,
   "metadata": {},
   "outputs": [
    {
     "data": {
      "text/html": [
       "<div>\n",
       "<style scoped>\n",
       "    .dataframe tbody tr th:only-of-type {\n",
       "        vertical-align: middle;\n",
       "    }\n",
       "\n",
       "    .dataframe tbody tr th {\n",
       "        vertical-align: top;\n",
       "    }\n",
       "\n",
       "    .dataframe thead tr th {\n",
       "        text-align: left;\n",
       "    }\n",
       "\n",
       "    .dataframe thead tr:last-of-type th {\n",
       "        text-align: right;\n",
       "    }\n",
       "</style>\n",
       "<table border=\"1\" class=\"dataframe\">\n",
       "  <thead>\n",
       "    <tr>\n",
       "      <th></th>\n",
       "      <th colspan=\"6\" halign=\"left\">price_per_lb</th>\n",
       "    </tr>\n",
       "    <tr>\n",
       "      <th></th>\n",
       "      <th>mean</th>\n",
       "      <th>median</th>\n",
       "      <th>std</th>\n",
       "      <th>min</th>\n",
       "      <th>max</th>\n",
       "      <th>count</th>\n",
       "    </tr>\n",
       "    <tr>\n",
       "      <th>location</th>\n",
       "      <th></th>\n",
       "      <th></th>\n",
       "      <th></th>\n",
       "      <th></th>\n",
       "      <th></th>\n",
       "      <th></th>\n",
       "    </tr>\n",
       "  </thead>\n",
       "  <tbody>\n",
       "    <tr>\n",
       "      <th>Jakarta Pusat</th>\n",
       "      <td>37,595,664.61582869</td>\n",
       "      <td>24,255,319.14893617</td>\n",
       "      <td>47,882,122.553194635</td>\n",
       "      <td>1,320,000.0</td>\n",
       "      <td>1,250,000,000.0</td>\n",
       "      <td>5177</td>\n",
       "    </tr>\n",
       "    <tr>\n",
       "      <th>Jakarta Selatan</th>\n",
       "      <td>32,244,477.377089184</td>\n",
       "      <td>24,000,000.0</td>\n",
       "      <td>29,411,010.77926888</td>\n",
       "      <td>633,333.3333333334</td>\n",
       "      <td>550,000,000.0</td>\n",
       "      <td>9015</td>\n",
       "    </tr>\n",
       "    <tr>\n",
       "      <th>Jakarta Barat</th>\n",
       "      <td>19,775,771.127851743</td>\n",
       "      <td>16,875,000.0</td>\n",
       "      <td>14,169,323.380729273</td>\n",
       "      <td>419,354.8387096774</td>\n",
       "      <td>425,000,000.0</td>\n",
       "      <td>5100</td>\n",
       "    </tr>\n",
       "    <tr>\n",
       "      <th>Jakarta Utara</th>\n",
       "      <td>18,669,129.48591787</td>\n",
       "      <td>16,600,265.604249667</td>\n",
       "      <td>10,610,488.14784571</td>\n",
       "      <td>1,046,153.8461538461</td>\n",
       "      <td>200,000,000.0</td>\n",
       "      <td>4033</td>\n",
       "    </tr>\n",
       "    <tr>\n",
       "      <th>Jakarta Timur</th>\n",
       "      <td>17,889,701.7696423</td>\n",
       "      <td>15,333,333.333333334</td>\n",
       "      <td>12,697,167.664716866</td>\n",
       "      <td>130,046.94835680751</td>\n",
       "      <td>324,074,074.0740741</td>\n",
       "      <td>6347</td>\n",
       "    </tr>\n",
       "    <tr>\n",
       "      <th>Kepulauan Seribu</th>\n",
       "      <td>16,250,000.0</td>\n",
       "      <td>16,250,000.0</td>\n",
       "      <td>0.0</td>\n",
       "      <td>16,250,000.0</td>\n",
       "      <td>16,250,000.0</td>\n",
       "      <td>2</td>\n",
       "    </tr>\n",
       "    <tr>\n",
       "      <th>Tangerang Selatan</th>\n",
       "      <td>15,691,020.712509926</td>\n",
       "      <td>14,285,714.285714285</td>\n",
       "      <td>7,751,868.793405241</td>\n",
       "      <td>814,132.1044546851</td>\n",
       "      <td>166,666,666.66666666</td>\n",
       "      <td>5815</td>\n",
       "    </tr>\n",
       "    <tr>\n",
       "      <th>Tangerang</th>\n",
       "      <td>14,696,291.513345622</td>\n",
       "      <td>13,380,281.690140845</td>\n",
       "      <td>7,741,533.455618741</td>\n",
       "      <td>383,047.2103004292</td>\n",
       "      <td>178,260,869.5652174</td>\n",
       "      <td>14425</td>\n",
       "    </tr>\n",
       "    <tr>\n",
       "      <th>Depok</th>\n",
       "      <td>13,123,210.20746729</td>\n",
       "      <td>12,140,575.079872204</td>\n",
       "      <td>7,967,806.761751164</td>\n",
       "      <td>942,028.9855072463</td>\n",
       "      <td>336,363,636.3636364</td>\n",
       "      <td>10119</td>\n",
       "    </tr>\n",
       "    <tr>\n",
       "      <th>Bogor</th>\n",
       "      <td>12,199,724.08570976</td>\n",
       "      <td>11,088,888.888888888</td>\n",
       "      <td>7,708,209.706496918</td>\n",
       "      <td>231,833.91003460207</td>\n",
       "      <td>250,000,000.0</td>\n",
       "      <td>12580</td>\n",
       "    </tr>\n",
       "    <tr>\n",
       "      <th>Bekasi</th>\n",
       "      <td>11,609,337.89745926</td>\n",
       "      <td>10,818,181.818181818</td>\n",
       "      <td>5,770,480.135090238</td>\n",
       "      <td>272,547.0763131814</td>\n",
       "      <td>133,333,333.33333333</td>\n",
       "      <td>12932</td>\n",
       "    </tr>\n",
       "    <tr>\n",
       "      <th>Cianjur</th>\n",
       "      <td>7,768,787.650288378</td>\n",
       "      <td>6,132,075.471698113</td>\n",
       "      <td>7,278,074.192909849</td>\n",
       "      <td>1,188,235.294117647</td>\n",
       "      <td>80,399,999.99999999</td>\n",
       "      <td>735</td>\n",
       "    </tr>\n",
       "  </tbody>\n",
       "</table>\n",
       "</div>"
      ],
      "text/plain": [
       "                          price_per_lb                       \\\n",
       "                                  mean               median   \n",
       "location                                                      \n",
       "Jakarta Pusat      37,595,664.61582869  24,255,319.14893617   \n",
       "Jakarta Selatan   32,244,477.377089184         24,000,000.0   \n",
       "Jakarta Barat     19,775,771.127851743         16,875,000.0   \n",
       "Jakarta Utara      18,669,129.48591787 16,600,265.604249667   \n",
       "Jakarta Timur       17,889,701.7696423 15,333,333.333333334   \n",
       "Kepulauan Seribu          16,250,000.0         16,250,000.0   \n",
       "Tangerang Selatan 15,691,020.712509926 14,285,714.285714285   \n",
       "Tangerang         14,696,291.513345622 13,380,281.690140845   \n",
       "Depok              13,123,210.20746729 12,140,575.079872204   \n",
       "Bogor              12,199,724.08570976 11,088,888.888888888   \n",
       "Bekasi             11,609,337.89745926 10,818,181.818181818   \n",
       "Cianjur            7,768,787.650288378  6,132,075.471698113   \n",
       "\n",
       "                                                             \\\n",
       "                                   std                  min   \n",
       "location                                                      \n",
       "Jakarta Pusat     47,882,122.553194635          1,320,000.0   \n",
       "Jakarta Selatan    29,411,010.77926888   633,333.3333333334   \n",
       "Jakarta Barat     14,169,323.380729273   419,354.8387096774   \n",
       "Jakarta Utara      10,610,488.14784571 1,046,153.8461538461   \n",
       "Jakarta Timur     12,697,167.664716866  130,046.94835680751   \n",
       "Kepulauan Seribu                   0.0         16,250,000.0   \n",
       "Tangerang Selatan  7,751,868.793405241   814,132.1044546851   \n",
       "Tangerang          7,741,533.455618741   383,047.2103004292   \n",
       "Depok              7,967,806.761751164   942,028.9855072463   \n",
       "Bogor              7,708,209.706496918  231,833.91003460207   \n",
       "Bekasi             5,770,480.135090238   272,547.0763131814   \n",
       "Cianjur            7,278,074.192909849  1,188,235.294117647   \n",
       "\n",
       "                                               \n",
       "                                   max  count  \n",
       "location                                       \n",
       "Jakarta Pusat          1,250,000,000.0   5177  \n",
       "Jakarta Selatan          550,000,000.0   9015  \n",
       "Jakarta Barat            425,000,000.0   5100  \n",
       "Jakarta Utara            200,000,000.0   4033  \n",
       "Jakarta Timur      324,074,074.0740741   6347  \n",
       "Kepulauan Seribu          16,250,000.0      2  \n",
       "Tangerang Selatan 166,666,666.66666666   5815  \n",
       "Tangerang          178,260,869.5652174  14425  \n",
       "Depok              336,363,636.3636364  10119  \n",
       "Bogor                    250,000,000.0  12580  \n",
       "Bekasi            133,333,333.33333333  12932  \n",
       "Cianjur            80,399,999.99999999    735  "
      ]
     },
     "execution_count": 113,
     "metadata": {},
     "output_type": "execute_result"
    }
   ],
   "source": [
    "df_aggregate_price_lb_city  = df.groupby('location').agg({'price_per_lb': ['mean', 'median', 'std', 'min', 'max', 'count']})\n",
    "df_aggregate_price_lb_city = df_aggregate_price_lb_city.sort_values(by=('price_per_lb', 'mean'), ascending=False)\n",
    "df_aggregate_price_lb_city"
   ]
  },
  {
   "cell_type": "code",
   "execution_count": 114,
   "metadata": {},
   "outputs": [
    {
     "data": {
      "text/plain": [
       "['Jakarta Pusat',\n",
       " 'Jakarta Selatan',\n",
       " 'Jakarta Barat',\n",
       " 'Jakarta Utara',\n",
       " 'Jakarta Timur']"
      ]
     },
     "execution_count": 114,
     "metadata": {},
     "output_type": "execute_result"
    }
   ],
   "source": [
    "ordered_list_price_lb_city = df_aggregate_price_lb_city['price_per_lb']['mean'].keys().tolist()\n",
    "ordered_list_price_lb_city[:5]"
   ]
  },
  {
   "cell_type": "markdown",
   "metadata": {},
   "source": [
    "### Scatter Plot"
   ]
  },
  {
   "cell_type": "markdown",
   "metadata": {},
   "source": [
    "#### Luas Tanah - Harga Rumah"
   ]
  },
  {
   "cell_type": "code",
   "execution_count": 115,
   "metadata": {},
   "outputs": [
    {
     "data": {
      "image/png": "[encoded data removed]",
      "text/plain": [
       "<Figure size 432x288 with 1 Axes>"
      ]
     },
     "metadata": {},
     "output_type": "display_data"
    }
   ],
   "source": [
    "import matplotlib\n",
    "fig, ax = plt.subplots()\n",
    "ax.scatter(df['lt'], df['price'], color='skyblue')\n",
    "ax.ticklabel_format(style='plain')\n",
    "ax.get_xaxis().set_major_formatter(matplotlib.ticker.FuncFormatter(lambda x, p: format(int(x), ',')))\n",
    "ax.get_yaxis().set_major_formatter(matplotlib.ticker.FuncFormatter(lambda x, p: format(int(x), ',')))"
   ]
  },
  {
   "cell_type": "markdown",
   "metadata": {},
   "source": [
    "#### Luas Bangunan - Harga Rumah"
   ]
  },
  {
   "cell_type": "code",
   "execution_count": 116,
   "metadata": {},
   "outputs": [
    {
     "data": {
      "image/png": "[encoded data removed]",
      "text/plain": [
       "<Figure size 432x288 with 1 Axes>"
      ]
     },
     "metadata": {},
     "output_type": "display_data"
    }
   ],
   "source": [
    "fig, ax = plt.subplots()\n",
    "ax.scatter(df['lb'], df['price'], color='blue')\n",
    "ax.ticklabel_format(style='plain')\n",
    "ax.get_xaxis().set_major_formatter(matplotlib.ticker.FuncFormatter(lambda x, p: format(int(x), ',')))\n",
    "ax.get_yaxis().set_major_formatter(matplotlib.ticker.FuncFormatter(lambda x, p: format(int(x), ',')))"
   ]
  },
  {
   "cell_type": "markdown",
   "metadata": {},
   "source": [
    "## Visualization"
   ]
  },
  {
   "cell_type": "markdown",
   "metadata": {},
   "source": [
    "### Choropleth Map"
   ]
  },
  {
   "cell_type": "markdown",
   "metadata": {},
   "source": [
    "#### Persebaran Harga Rumah"
   ]
  },
  {
   "cell_type": "code",
   "execution_count": 117,
   "metadata": {},
   "outputs": [],
   "source": [
    "# Source: https://github.com/JfrAziz/indonesia-district\n",
    "\n",
    "geo_jakarta_pusat_df = gpd.read_file('../dataset/id3173_kota_jakarta_pusat.geojson')\n",
    "geo_jakarta_utara_df = gpd.read_file('../dataset/id3175_kota_jakarta_utara.geojson')\n",
    "geo_jakarta_timur_df = gpd.read_file('../dataset/id3172_kota_jakarta_timur.geojson')\n",
    "geo_jakarta_selatan_df = gpd.read_file('../dataset/id3171_kota_jakarta_selatan.geojson')\n",
    "geo_jakarta_barat_df = gpd.read_file('../dataset/id3174_kota_jakarta_barat.geojson')\n",
    "geo_kepulauan_seribu_df = gpd.read_file('../dataset/id3101_kepulauan_seribu.geojson')\n",
    "geo_kota_bogor_df = gpd.read_file('../dataset/id3271_kota_bogor.geojson')\n",
    "geo_kabupaten_bogor_df = gpd.read_file('../dataset/id3201_bogor.geojson')\n",
    "geo_kota_depok_df = gpd.read_file('../dataset/id3276_kota_depok.geojson')\n",
    "geo_kota_tangerang_df = gpd.read_file('../dataset/id3671_kota_tangerang.geojson')\n",
    "geo_kabupaten_tangerang_df = gpd.read_file('../dataset/id3603_tangerang.geojson')\n",
    "geo_kota_tangerang_selatan_df = gpd.read_file('../dataset/id3674_kota_tangerang_selatan.geojson')\n",
    "geo_kota_bekasi_df = gpd.read_file('../dataset/id3275_kota_bekasi.geojson')\n",
    "geo_kabupaten_bekasi_df = gpd.read_file('../dataset/id3216_bekasi.geojson')\n",
    "geo_cianjur_df = gpd.read_file('../dataset/id3203_cianjur.geojson')\n",
    "\n",
    "jabodetabek_df = gpd.GeoDataFrame()\n",
    "jabodetabek_df = pd.concat([jabodetabek_df, geo_jakarta_pusat_df], ignore_index=True)\n",
    "jabodetabek_df = pd.concat([jabodetabek_df, geo_jakarta_utara_df], ignore_index=True)\n",
    "jabodetabek_df = pd.concat([jabodetabek_df, geo_jakarta_timur_df], ignore_index=True)\n",
    "jabodetabek_df = pd.concat([jabodetabek_df, geo_jakarta_selatan_df], ignore_index=True)\n",
    "jabodetabek_df = pd.concat([jabodetabek_df, geo_jakarta_barat_df], ignore_index=True)\n",
    "# jabodetabek_df = pd.concat([jabodetabek_df, geo_kepulauan_seribu_df], ignore_index=True)\n",
    "jabodetabek_df = pd.concat([jabodetabek_df, geo_kota_bogor_df], ignore_index=True)\n",
    "jabodetabek_df = pd.concat([jabodetabek_df, geo_kabupaten_bogor_df], ignore_index=True)\n",
    "jabodetabek_df = pd.concat([jabodetabek_df, geo_kota_depok_df], ignore_index=True)\n",
    "jabodetabek_df = pd.concat([jabodetabek_df, geo_kota_tangerang_df], ignore_index=True)\n",
    "jabodetabek_df = pd.concat([jabodetabek_df, geo_kabupaten_tangerang_df], ignore_index=True)\n",
    "jabodetabek_df = pd.concat([jabodetabek_df, geo_kota_tangerang_selatan_df], ignore_index=True)\n",
    "jabodetabek_df = pd.concat([jabodetabek_df, geo_kota_bekasi_df], ignore_index=True)\n",
    "jabodetabek_df = pd.concat([jabodetabek_df, geo_kabupaten_bekasi_df], ignore_index=True)\n",
    "# jabodetabek_df = pd.concat([jabodetabek_df, geo_cianjur_df], ignore_index=True)\n",
    "\n",
    "jabodetabek_df['regency'] = jabodetabek_df['regency'].str.replace('Kota ', '')"
   ]
  },
  {
   "cell_type": "code",
   "execution_count": 118,
   "metadata": {},
   "outputs": [
    {
     "name": "stderr",
     "output_type": "stream",
     "text": [
      "C:\\Users\\lenovo\\AppData\\Local\\Temp\\ipykernel_5748\\1606348246.py:29: UserWarning: Geometry is in a geographic CRS. Results from 'centroid' are likely incorrect. Use 'GeoSeries.to_crs()' to re-project geometries to a projected CRS before this operation.\n",
      "\n",
      "  regency_centroids = regency_boundaries.centroid\n"
     ]
    },
    {
     "data": {
      "image/png": "[encoded data removed]",
      "text/plain": [
       "<Figure size 1440x1440 with 2 Axes>"
      ]
     },
     "metadata": {},
     "output_type": "display_data"
    }
   ],
   "source": [
    "jabodetabek_price_df = jabodetabek_df.merge(\n",
    "    df.groupby('location')['price'].mean(), \n",
    "    left_on='regency', \n",
    "    right_on='location', \n",
    "    how='left'\n",
    ")\n",
    "jabodetabek_price_df['price'] = jabodetabek_price_df['price'].fillna(0)\n",
    "\n",
    "\n",
    "fig, ax = plt.subplots(figsize=(20, 20), facecolor='white')\n",
    "ax.set_facecolor('white')\n",
    "jabodetabek_price_df.plot(\n",
    "    column='price', \n",
    "    ax=ax, \n",
    "    legend=True, \n",
    "    cmap='YlOrBr', \n",
    "    edgecolor='black', \n",
    "    linewidth=0,\n",
    "    legend_kwds={'orientation': \"horizontal\"}\n",
    ")\n",
    "\n",
    "regency_boundaries = jabodetabek_price_df.dissolve(by='regency')\n",
    "regency_boundaries.boundary.plot(\n",
    "    ax=ax, \n",
    "    edgecolor='black', \n",
    "    linewidth=1\n",
    ")\n",
    "\n",
    "regency_centroids = regency_boundaries.centroid\n",
    "for regency, centroid in regency_centroids.items():\n",
    "    ax.annotate(\n",
    "        text=regency, \n",
    "        xy=(centroid.x, centroid.y), \n",
    "        ha='center', \n",
    "        fontsize=12\n",
    "    )\n",
    "\n",
    "ax.set_title('Persebaran Harga Rumah di Jabodetabek', fontsize=24)\n",
    "ax.tick_params(axis='both', which='both', bottom=False, top=False, labelbottom=False, left=False, labelleft=False)\n",
    "plt.show()"
   ]
  },
  {
   "cell_type": "markdown",
   "metadata": {},
   "source": [
    "### Scatter Plot"
   ]
  },
  {
   "cell_type": "markdown",
   "metadata": {},
   "source": [
    "#### Hubungan harga rumah dengan luas bangunan di 2 lokasi (lokasi dengan rata-rata harga rumah tertinggi dan terendah)  "
   ]
  },
  {
   "cell_type": "code",
   "execution_count": 119,
   "metadata": {},
   "outputs": [],
   "source": [
    "mean_prices = df.groupby('location')['price'].mean()\n",
    "\n",
    "# Find the location with the highest mean price\n",
    "highest_mean_location = mean_prices.idxmax()\n",
    "highest_mean_price = mean_prices.max()\n",
    "\n",
    "# Find the location with the lowest mean price\n",
    "lowest_mean_location = mean_prices.idxmin()\n",
    "lowest_mean_price = mean_prices.min()"
   ]
  },
  {
   "cell_type": "code",
   "execution_count": 120,
   "metadata": {},
   "outputs": [
    {
     "data": {
      "text/plain": [
       "sub_district\n",
       "Babelan              583,938,650.3067485\n",
       "Bantar Gebang      1,100,485,714.2857144\n",
       "Bekasi Barat       1,943,274,383.7084672\n",
       "Bekasi Timur        1,162,266,304.347826\n",
       "Bekasi Utara       1,001,221,428.5714285\n",
       "Cibitung             660,734,117.6470588\n",
       "Cikarang Selatan   1,483,587,706.1469266\n",
       "Cikarang Utara     1,155,970,149.2537313\n",
       "Jati Asih          1,263,076,271.1864407\n",
       "Jatisampurna        1,863,324,817.518248\n",
       "Karangbahagia              411,600,000.0\n",
       "Kedungwaringin           3,650,000,000.0\n",
       "Medan Satria       1,221,523,869.3467336\n",
       "Mustikajaya           970,475,352.112676\n",
       "Pondok Gede        2,230,558,139.5348835\n",
       "Pondokmelati        1,857,141,592.920354\n",
       "Rawalumbu           1,729,595,541.401274\n",
       "Serang Baru          677,615,384.6153846\n",
       "Setu                 573,189,144.7368422\n",
       "Sukatani                   513,175,000.0\n",
       "Sukawangi            313,611,111.1111111\n",
       "Tambelang            491,444,444.4444444\n",
       "Tambun Selatan     1,284,944,581.2807882\n",
       "Tambun Utara          673,894,964.028777\n",
       "Tarumajaya         1,041,525,215.2521526\n",
       "Name: price, dtype: float64"
      ]
     },
     "execution_count": 120,
     "metadata": {},
     "output_type": "execute_result"
    }
   ],
   "source": [
    "lowest_mean_df = df[df['location'] == lowest_mean_location]\n",
    "lowest_price_df = lowest_mean_df.groupby('sub_district')['price'].mean()\n",
    "lowest_lb_df = lowest_mean_df.groupby('sub_district')['lb'].mean()\n",
    "lowest_lt_df = lowest_mean_df.groupby('sub_district')['lt'].mean()\n",
    "lowest_price_df"
   ]
  },
  {
   "cell_type": "code",
   "execution_count": 121,
   "metadata": {},
   "outputs": [
    {
     "data": {
      "text/plain": [
       "sub_district\n",
       "Cempaka Putih    8,132,598,173.515982\n",
       "Gambir          11,267,231,481.481482\n",
       "Johar Baru        4,165,607,940.44665\n",
       "Kemayoran        6,388,595,070.422535\n",
       "Menteng          62,595,662,337.66234\n",
       "Sawah Besar      5,765,411,483.253589\n",
       "Senen           10,351,615,103.532278\n",
       "Tanah Abang      14,585,711,985.68873\n",
       "Name: price, dtype: float64"
      ]
     },
     "execution_count": 121,
     "metadata": {},
     "output_type": "execute_result"
    }
   ],
   "source": [
    "highest_mean_df = df[df['location'] == highest_mean_location]\n",
    "highest_price_df = highest_mean_df.groupby('sub_district')['price'].mean()\n",
    "highest_lb_df = highest_mean_df.groupby('sub_district')['lb'].mean()\n",
    "highest_lt_df = highest_mean_df.groupby('sub_district')['lt'].mean()\n",
    "highest_price_df"
   ]
  },
  {
   "cell_type": "code",
   "execution_count": 122,
   "metadata": {},
   "outputs": [
    {
     "data": {
      "image/png": "[encoded data removed]",
      "text/plain": [
       "<Figure size 432x288 with 1 Axes>"
      ]
     },
     "metadata": {},
     "output_type": "display_data"
    }
   ],
   "source": [
    "import matplotlib.pyplot as plt\n",
    "\n",
    "# Set ggplot style\n",
    "plt.style.use('ggplot')\n",
    "\n",
    "# Plot for lowest mean location\n",
    "plt.scatter(lowest_lb_df, lowest_price_df, s=15, c='blue', label='Lokasi dengan rata-rata terendah')\n",
    "\n",
    "# Plot for highest mean location\n",
    "plt.scatter(highest_lb_df, highest_price_df, s=15, c='red', label='Lokasi dengan rata-rata tertinggi')\n",
    "\n",
    "# Annotate the Menteng sub-district with the highest price\n",
    "plt.annotate('Menteng', xy=(highest_lb_df['Menteng'], highest_price_df['Menteng']), xytext=(20, -20),\n",
    "             textcoords='offset points', ha='center', fontsize=10, color='black',\n",
    "             arrowprops=dict(arrowstyle='->', color='black'))\n",
    "\n",
    "plt.annotate('Sukawangi', xy=(lowest_lb_df['Sukawangi'], lowest_price_df['Sukawangi']), xytext=(20, -20),\n",
    "             textcoords='offset points', ha='center', fontsize=10, color='black',\n",
    "             arrowprops=dict(arrowstyle='->', color='black'))\n",
    "\n",
    "# Set labels and title\n",
    "picked_font = {'fontname': 'sans-serif'}\n",
    "plt.xlabel('Harga (miliar)', **picked_font)\n",
    "plt.ylabel('Luas Bangunan (m²)', **picked_font)\n",
    "plt.title('', **picked_font)\n",
    "\n",
    "# Show plot\n",
    "plt.show()"
   ]
  },
  {
   "cell_type": "markdown",
   "metadata": {},
   "source": [
    "#### Hubungan Harga Rumah dan Luas Tanah pada Kecamatan Ekstrem (minimum dan maksimum)"
   ]
  },
  {
   "cell_type": "code",
   "execution_count": 123,
   "metadata": {},
   "outputs": [
    {
     "data": {
      "image/png": "[encoded data removed]",
      "text/plain": [
       "<Figure size 432x288 with 1 Axes>"
      ]
     },
     "metadata": {},
     "output_type": "display_data"
    }
   ],
   "source": [
    "import matplotlib.pyplot as plt\n",
    "\n",
    "# Set ggplot style\n",
    "plt.style.use('ggplot')\n",
    "\n",
    "# Plot for lowest mean location\n",
    "plt.scatter(lowest_lt_df, lowest_price_df, s=15, c='blue', label='Lokasi dengan rata-rata terendah')\n",
    "\n",
    "# Plot for highest mean location\n",
    "plt.scatter(highest_lt_df, highest_price_df, s=15, c='red', label='Lokasi dengan rata-rata tertinggi')\n",
    "\n",
    "# Annotate the Menteng sub-district with the highest price\n",
    "plt.annotate('Menteng', xy=(highest_lt_df['Menteng'], highest_price_df['Menteng']), xytext=(20, -20),\n",
    "             textcoords='offset points', ha='center', fontsize=10, color='black',\n",
    "             arrowprops=dict(arrowstyle='->', color='black'))\n",
    "\n",
    "plt.annotate('Sukawangi', xy=(lowest_lt_df['Sukawangi'], lowest_price_df['Sukawangi']), xytext=(20, -20),\n",
    "             textcoords='offset points', ha='center', fontsize=10, color='black',\n",
    "             arrowprops=dict(arrowstyle='->', color='black'))\n",
    "\n",
    "# Set labels and title sans-serif\n",
    "picked_font = {'fontname': 'sans-serif'}\n",
    "plt.xlabel('Harga (miliar)', **picked_font)\n",
    "plt.ylabel('Luas Tanah (m²)', **picked_font)\n",
    "plt.title('', **picked_font)\n",
    "\n",
    "# Show plot\n",
    "plt.show()"
   ]
  },
  {
   "cell_type": "code",
   "execution_count": 124,
   "metadata": {},
   "outputs": [],
   "source": [
    "count_kecamatan = len(ordered_list_price)\n",
    "idx_median = count_kecamatan // 2\n",
    "\n",
    "kecamatan_with_lowest = df[df['sub_district'] == ordered_list_price[-1]]\n",
    "kecamatan_with_highest = df[df['sub_district'] == ordered_list_price[0]]\n",
    "kecamatan_with_median = df[df['sub_district'] == ordered_list_price[idx_median]]\n",
    "\n",
    "scatter_data = pd.concat([kecamatan_with_lowest, kecamatan_with_highest, kecamatan_with_median])\n",
    "\n",
    "scatter_data = scatter_data[scatter_data['price'] < 50_000_000_000]"
   ]
  },
  {
   "cell_type": "code",
   "execution_count": 125,
   "metadata": {},
   "outputs": [
    {
     "data": {
      "image/png": "[encoded data removed]",
      "text/plain": [
       "<Figure size 432x288 with 1 Axes>"
      ]
     },
     "metadata": {},
     "output_type": "display_data"
    }
   ],
   "source": [
    "# from svgpath2mpl import parse_path\n",
    "# from svgpathtools import svg2paths\n",
    "\n",
    "# dollar_path, attributes = svg2paths('../assets/dollar_sign.svg')\n",
    "\n",
    "# dollar_marker = parse_path(attributes[0]['d'])\n",
    "# dollar_marker.vertices -= dollar_marker.vertices.mean(axis=0)\n",
    "# dollar_marker = dollar_marker.transformed(matplotlib.transforms.Affine2D().rotate_deg(180))\n",
    "# dollar_marker = dollar_marker.transformed(matplotlib.transforms.Affine2D().scale(-1, 1))\n",
    "\n",
    "sns.scatterplot(\n",
    "    data = scatter_data,\n",
    "    x=\"lt\",\n",
    "    y=\"price\",\n",
    "    hue=\"sub_district\",\n",
    ")\n",
    "\n",
    "plt.xlabel('Luas Tanah')\n",
    "plt.ylabel('Harga (Dalam Miliar)')\n",
    "\n",
    "# formatting y_axis value\n",
    "plt.ticklabel_format(style='plain')\n",
    "plt.gca().get_yaxis().set_major_formatter(\n",
    "    matplotlib.ticker.FuncFormatter(lambda x, p: format(int(x / 1_000_000_000), ','))\n",
    ")"
   ]
  },
  {
   "cell_type": "code",
   "execution_count": 126,
   "metadata": {},
   "outputs": [
    {
     "data": {
      "text/html": [
       "<div>\n",
       "<style scoped>\n",
       "    .dataframe tbody tr th:only-of-type {\n",
       "        vertical-align: middle;\n",
       "    }\n",
       "\n",
       "    .dataframe tbody tr th {\n",
       "        vertical-align: top;\n",
       "    }\n",
       "\n",
       "    .dataframe thead tr th {\n",
       "        text-align: left;\n",
       "    }\n",
       "\n",
       "    .dataframe thead tr:last-of-type th {\n",
       "        text-align: right;\n",
       "    }\n",
       "</style>\n",
       "<table border=\"1\" class=\"dataframe\">\n",
       "  <thead>\n",
       "    <tr>\n",
       "      <th></th>\n",
       "      <th colspan=\"6\" halign=\"left\">price</th>\n",
       "    </tr>\n",
       "    <tr>\n",
       "      <th></th>\n",
       "      <th>mean</th>\n",
       "      <th>median</th>\n",
       "      <th>std</th>\n",
       "      <th>min</th>\n",
       "      <th>max</th>\n",
       "      <th>count</th>\n",
       "    </tr>\n",
       "    <tr>\n",
       "      <th>sub_district</th>\n",
       "      <th></th>\n",
       "      <th></th>\n",
       "      <th></th>\n",
       "      <th></th>\n",
       "      <th></th>\n",
       "      <th></th>\n",
       "    </tr>\n",
       "  </thead>\n",
       "  <tbody>\n",
       "    <tr>\n",
       "      <th>Kresek</th>\n",
       "      <td>1,757,045,454.5454545</td>\n",
       "      <td>1,250,000,000.0</td>\n",
       "      <td>1,088,573,864.944662</td>\n",
       "      <td>650,000,000.0</td>\n",
       "      <td>4,550,000,000.0</td>\n",
       "      <td>66</td>\n",
       "    </tr>\n",
       "  </tbody>\n",
       "</table>\n",
       "</div>"
      ],
      "text/plain": [
       "                             price                                       \\\n",
       "                              mean          median                  std   \n",
       "sub_district                                                              \n",
       "Kresek       1,757,045,454.5454545 1,250,000,000.0 1,088,573,864.944662   \n",
       "\n",
       "                                                  \n",
       "                       min             max count  \n",
       "sub_district                                      \n",
       "Kresek       650,000,000.0 4,550,000,000.0    66  "
      ]
     },
     "execution_count": 126,
     "metadata": {},
     "output_type": "execute_result"
    }
   ],
   "source": [
    "# df_aggregate price that sub_district is 'Kresek'\n",
    "df_aggregate_price[df_aggregate_price.index == 'Kresek']"
   ]
  }
 ],
 "metadata": {
  "kernelspec": {
   "display_name": "Python 3",
   "language": "python",
   "name": "python3"
  },
  "language_info": {
   "codemirror_mode": {
    "name": "ipython",
    "version": 3
   },
   "file_extension": ".py",
   "mimetype": "text/x-python",
   "name": "python",
   "nbconvert_exporter": "python",
   "pygments_lexer": "ipython3",
   "version": "3.10.6"
  }
 },
 "nbformat": 4,
 "nbformat_minor": 2
}
